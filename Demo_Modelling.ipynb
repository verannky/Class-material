{
  "nbformat": 4,
  "nbformat_minor": 0,
  "metadata": {
    "colab": {
      "name": "Demo Modelling.ipynb",
      "provenance": []
    },
    "kernelspec": {
      "name": "python3",
      "display_name": "Python 3"
    },
    "language_info": {
      "name": "python"
    }
  },
  "cells": [
    {
      "cell_type": "code",
      "metadata": {
        "id": "1YdNhNoEwW0q"
      },
      "source": [
        "import pandas as pd\n",
        "import numpy as np\n",
        "import seaborn as sns\n"
      ],
      "execution_count": 1,
      "outputs": []
    },
    {
      "cell_type": "code",
      "metadata": {
        "colab": {
          "base_uri": "https://localhost:8080/",
          "height": 423
        },
        "id": "5_GPgWHGxFYu",
        "outputId": "6f657583-83d7-437a-ad54-50351eb7048a"
      },
      "source": [
        "data = pd.read_csv('/content/StudentsPerformance.csv')\n",
        "data"
      ],
      "execution_count": 2,
      "outputs": [
        {
          "output_type": "execute_result",
          "data": {
            "text/html": [
              "<div>\n",
              "<style scoped>\n",
              "    .dataframe tbody tr th:only-of-type {\n",
              "        vertical-align: middle;\n",
              "    }\n",
              "\n",
              "    .dataframe tbody tr th {\n",
              "        vertical-align: top;\n",
              "    }\n",
              "\n",
              "    .dataframe thead th {\n",
              "        text-align: right;\n",
              "    }\n",
              "</style>\n",
              "<table border=\"1\" class=\"dataframe\">\n",
              "  <thead>\n",
              "    <tr style=\"text-align: right;\">\n",
              "      <th></th>\n",
              "      <th>gender</th>\n",
              "      <th>race/ethnicity</th>\n",
              "      <th>parental level of education</th>\n",
              "      <th>lunch</th>\n",
              "      <th>test preparation course</th>\n",
              "      <th>math score</th>\n",
              "      <th>reading score</th>\n",
              "      <th>writing score</th>\n",
              "    </tr>\n",
              "  </thead>\n",
              "  <tbody>\n",
              "    <tr>\n",
              "      <th>0</th>\n",
              "      <td>female</td>\n",
              "      <td>group B</td>\n",
              "      <td>bachelor's degree</td>\n",
              "      <td>standard</td>\n",
              "      <td>none</td>\n",
              "      <td>72</td>\n",
              "      <td>72</td>\n",
              "      <td>74</td>\n",
              "    </tr>\n",
              "    <tr>\n",
              "      <th>1</th>\n",
              "      <td>female</td>\n",
              "      <td>group C</td>\n",
              "      <td>some college</td>\n",
              "      <td>standard</td>\n",
              "      <td>completed</td>\n",
              "      <td>69</td>\n",
              "      <td>90</td>\n",
              "      <td>88</td>\n",
              "    </tr>\n",
              "    <tr>\n",
              "      <th>2</th>\n",
              "      <td>female</td>\n",
              "      <td>group B</td>\n",
              "      <td>master's degree</td>\n",
              "      <td>standard</td>\n",
              "      <td>none</td>\n",
              "      <td>90</td>\n",
              "      <td>95</td>\n",
              "      <td>93</td>\n",
              "    </tr>\n",
              "    <tr>\n",
              "      <th>3</th>\n",
              "      <td>male</td>\n",
              "      <td>group A</td>\n",
              "      <td>associate's degree</td>\n",
              "      <td>free/reduced</td>\n",
              "      <td>none</td>\n",
              "      <td>47</td>\n",
              "      <td>57</td>\n",
              "      <td>44</td>\n",
              "    </tr>\n",
              "    <tr>\n",
              "      <th>4</th>\n",
              "      <td>male</td>\n",
              "      <td>group C</td>\n",
              "      <td>some college</td>\n",
              "      <td>standard</td>\n",
              "      <td>none</td>\n",
              "      <td>76</td>\n",
              "      <td>78</td>\n",
              "      <td>75</td>\n",
              "    </tr>\n",
              "    <tr>\n",
              "      <th>...</th>\n",
              "      <td>...</td>\n",
              "      <td>...</td>\n",
              "      <td>...</td>\n",
              "      <td>...</td>\n",
              "      <td>...</td>\n",
              "      <td>...</td>\n",
              "      <td>...</td>\n",
              "      <td>...</td>\n",
              "    </tr>\n",
              "    <tr>\n",
              "      <th>995</th>\n",
              "      <td>female</td>\n",
              "      <td>group E</td>\n",
              "      <td>master's degree</td>\n",
              "      <td>standard</td>\n",
              "      <td>completed</td>\n",
              "      <td>88</td>\n",
              "      <td>99</td>\n",
              "      <td>95</td>\n",
              "    </tr>\n",
              "    <tr>\n",
              "      <th>996</th>\n",
              "      <td>male</td>\n",
              "      <td>group C</td>\n",
              "      <td>high school</td>\n",
              "      <td>free/reduced</td>\n",
              "      <td>none</td>\n",
              "      <td>62</td>\n",
              "      <td>55</td>\n",
              "      <td>55</td>\n",
              "    </tr>\n",
              "    <tr>\n",
              "      <th>997</th>\n",
              "      <td>female</td>\n",
              "      <td>group C</td>\n",
              "      <td>high school</td>\n",
              "      <td>free/reduced</td>\n",
              "      <td>completed</td>\n",
              "      <td>59</td>\n",
              "      <td>71</td>\n",
              "      <td>65</td>\n",
              "    </tr>\n",
              "    <tr>\n",
              "      <th>998</th>\n",
              "      <td>female</td>\n",
              "      <td>group D</td>\n",
              "      <td>some college</td>\n",
              "      <td>standard</td>\n",
              "      <td>completed</td>\n",
              "      <td>68</td>\n",
              "      <td>78</td>\n",
              "      <td>77</td>\n",
              "    </tr>\n",
              "    <tr>\n",
              "      <th>999</th>\n",
              "      <td>female</td>\n",
              "      <td>group D</td>\n",
              "      <td>some college</td>\n",
              "      <td>free/reduced</td>\n",
              "      <td>none</td>\n",
              "      <td>77</td>\n",
              "      <td>86</td>\n",
              "      <td>86</td>\n",
              "    </tr>\n",
              "  </tbody>\n",
              "</table>\n",
              "<p>1000 rows × 8 columns</p>\n",
              "</div>"
            ],
            "text/plain": [
              "     gender race/ethnicity  ... reading score writing score\n",
              "0    female        group B  ...            72            74\n",
              "1    female        group C  ...            90            88\n",
              "2    female        group B  ...            95            93\n",
              "3      male        group A  ...            57            44\n",
              "4      male        group C  ...            78            75\n",
              "..      ...            ...  ...           ...           ...\n",
              "995  female        group E  ...            99            95\n",
              "996    male        group C  ...            55            55\n",
              "997  female        group C  ...            71            65\n",
              "998  female        group D  ...            78            77\n",
              "999  female        group D  ...            86            86\n",
              "\n",
              "[1000 rows x 8 columns]"
            ]
          },
          "metadata": {},
          "execution_count": 2
        }
      ]
    },
    {
      "cell_type": "code",
      "metadata": {
        "colab": {
          "base_uri": "https://localhost:8080/",
          "height": 223
        },
        "id": "32FOk-lVzUUW",
        "outputId": "a395a3d7-cdb2-4441-df51-b157704bb95d"
      },
      "source": [
        "data['total_score'] = sum([data['math score'], data['reading score'], data['writing score']])\n",
        "data.head()"
      ],
      "execution_count": null,
      "outputs": [
        {
          "output_type": "execute_result",
          "data": {
            "text/html": [
              "<div>\n",
              "<style scoped>\n",
              "    .dataframe tbody tr th:only-of-type {\n",
              "        vertical-align: middle;\n",
              "    }\n",
              "\n",
              "    .dataframe tbody tr th {\n",
              "        vertical-align: top;\n",
              "    }\n",
              "\n",
              "    .dataframe thead th {\n",
              "        text-align: right;\n",
              "    }\n",
              "</style>\n",
              "<table border=\"1\" class=\"dataframe\">\n",
              "  <thead>\n",
              "    <tr style=\"text-align: right;\">\n",
              "      <th></th>\n",
              "      <th>gender</th>\n",
              "      <th>race/ethnicity</th>\n",
              "      <th>parental level of education</th>\n",
              "      <th>lunch</th>\n",
              "      <th>test preparation course</th>\n",
              "      <th>math score</th>\n",
              "      <th>reading score</th>\n",
              "      <th>writing score</th>\n",
              "      <th>total_score</th>\n",
              "    </tr>\n",
              "  </thead>\n",
              "  <tbody>\n",
              "    <tr>\n",
              "      <th>0</th>\n",
              "      <td>female</td>\n",
              "      <td>group B</td>\n",
              "      <td>bachelor's degree</td>\n",
              "      <td>standard</td>\n",
              "      <td>none</td>\n",
              "      <td>72</td>\n",
              "      <td>72</td>\n",
              "      <td>74</td>\n",
              "      <td>218</td>\n",
              "    </tr>\n",
              "    <tr>\n",
              "      <th>1</th>\n",
              "      <td>female</td>\n",
              "      <td>group C</td>\n",
              "      <td>some college</td>\n",
              "      <td>standard</td>\n",
              "      <td>completed</td>\n",
              "      <td>69</td>\n",
              "      <td>90</td>\n",
              "      <td>88</td>\n",
              "      <td>247</td>\n",
              "    </tr>\n",
              "    <tr>\n",
              "      <th>2</th>\n",
              "      <td>female</td>\n",
              "      <td>group B</td>\n",
              "      <td>master's degree</td>\n",
              "      <td>standard</td>\n",
              "      <td>none</td>\n",
              "      <td>90</td>\n",
              "      <td>95</td>\n",
              "      <td>93</td>\n",
              "      <td>278</td>\n",
              "    </tr>\n",
              "    <tr>\n",
              "      <th>3</th>\n",
              "      <td>male</td>\n",
              "      <td>group A</td>\n",
              "      <td>associate's degree</td>\n",
              "      <td>free/reduced</td>\n",
              "      <td>none</td>\n",
              "      <td>47</td>\n",
              "      <td>57</td>\n",
              "      <td>44</td>\n",
              "      <td>148</td>\n",
              "    </tr>\n",
              "    <tr>\n",
              "      <th>4</th>\n",
              "      <td>male</td>\n",
              "      <td>group C</td>\n",
              "      <td>some college</td>\n",
              "      <td>standard</td>\n",
              "      <td>none</td>\n",
              "      <td>76</td>\n",
              "      <td>78</td>\n",
              "      <td>75</td>\n",
              "      <td>229</td>\n",
              "    </tr>\n",
              "  </tbody>\n",
              "</table>\n",
              "</div>"
            ],
            "text/plain": [
              "   gender race/ethnicity  ... writing score total_score\n",
              "0  female        group B  ...            74         218\n",
              "1  female        group C  ...            88         247\n",
              "2  female        group B  ...            93         278\n",
              "3    male        group A  ...            44         148\n",
              "4    male        group C  ...            75         229\n",
              "\n",
              "[5 rows x 9 columns]"
            ]
          },
          "metadata": {},
          "execution_count": 3
        }
      ]
    },
    {
      "cell_type": "code",
      "metadata": {
        "colab": {
          "base_uri": "https://localhost:8080/",
          "height": 223
        },
        "id": "p_5HzLvizWr-",
        "outputId": "71cfa34a-91b1-4875-872c-3d27d3b79cb4"
      },
      "source": [
        "data['average'] = round((data['total_score'] * 100) / 300).astype('int64')\n",
        "data.head()"
      ],
      "execution_count": null,
      "outputs": [
        {
          "output_type": "execute_result",
          "data": {
            "text/html": [
              "<div>\n",
              "<style scoped>\n",
              "    .dataframe tbody tr th:only-of-type {\n",
              "        vertical-align: middle;\n",
              "    }\n",
              "\n",
              "    .dataframe tbody tr th {\n",
              "        vertical-align: top;\n",
              "    }\n",
              "\n",
              "    .dataframe thead th {\n",
              "        text-align: right;\n",
              "    }\n",
              "</style>\n",
              "<table border=\"1\" class=\"dataframe\">\n",
              "  <thead>\n",
              "    <tr style=\"text-align: right;\">\n",
              "      <th></th>\n",
              "      <th>gender</th>\n",
              "      <th>race/ethnicity</th>\n",
              "      <th>parental level of education</th>\n",
              "      <th>lunch</th>\n",
              "      <th>test preparation course</th>\n",
              "      <th>math score</th>\n",
              "      <th>reading score</th>\n",
              "      <th>writing score</th>\n",
              "      <th>total_score</th>\n",
              "      <th>average</th>\n",
              "    </tr>\n",
              "  </thead>\n",
              "  <tbody>\n",
              "    <tr>\n",
              "      <th>0</th>\n",
              "      <td>female</td>\n",
              "      <td>group B</td>\n",
              "      <td>bachelor's degree</td>\n",
              "      <td>standard</td>\n",
              "      <td>none</td>\n",
              "      <td>72</td>\n",
              "      <td>72</td>\n",
              "      <td>74</td>\n",
              "      <td>218</td>\n",
              "      <td>73</td>\n",
              "    </tr>\n",
              "    <tr>\n",
              "      <th>1</th>\n",
              "      <td>female</td>\n",
              "      <td>group C</td>\n",
              "      <td>some college</td>\n",
              "      <td>standard</td>\n",
              "      <td>completed</td>\n",
              "      <td>69</td>\n",
              "      <td>90</td>\n",
              "      <td>88</td>\n",
              "      <td>247</td>\n",
              "      <td>82</td>\n",
              "    </tr>\n",
              "    <tr>\n",
              "      <th>2</th>\n",
              "      <td>female</td>\n",
              "      <td>group B</td>\n",
              "      <td>master's degree</td>\n",
              "      <td>standard</td>\n",
              "      <td>none</td>\n",
              "      <td>90</td>\n",
              "      <td>95</td>\n",
              "      <td>93</td>\n",
              "      <td>278</td>\n",
              "      <td>93</td>\n",
              "    </tr>\n",
              "    <tr>\n",
              "      <th>3</th>\n",
              "      <td>male</td>\n",
              "      <td>group A</td>\n",
              "      <td>associate's degree</td>\n",
              "      <td>free/reduced</td>\n",
              "      <td>none</td>\n",
              "      <td>47</td>\n",
              "      <td>57</td>\n",
              "      <td>44</td>\n",
              "      <td>148</td>\n",
              "      <td>49</td>\n",
              "    </tr>\n",
              "    <tr>\n",
              "      <th>4</th>\n",
              "      <td>male</td>\n",
              "      <td>group C</td>\n",
              "      <td>some college</td>\n",
              "      <td>standard</td>\n",
              "      <td>none</td>\n",
              "      <td>76</td>\n",
              "      <td>78</td>\n",
              "      <td>75</td>\n",
              "      <td>229</td>\n",
              "      <td>76</td>\n",
              "    </tr>\n",
              "  </tbody>\n",
              "</table>\n",
              "</div>"
            ],
            "text/plain": [
              "   gender race/ethnicity  ... total_score average\n",
              "0  female        group B  ...         218      73\n",
              "1  female        group C  ...         247      82\n",
              "2  female        group B  ...         278      93\n",
              "3    male        group A  ...         148      49\n",
              "4    male        group C  ...         229      76\n",
              "\n",
              "[5 rows x 10 columns]"
            ]
          },
          "metadata": {},
          "execution_count": 4
        }
      ]
    },
    {
      "cell_type": "code",
      "metadata": {
        "colab": {
          "base_uri": "https://localhost:8080/",
          "height": 300
        },
        "id": "718KFpIvxP6u",
        "outputId": "9cdbe071-3ec7-4bf0-ac37-a4c4496d7331"
      },
      "source": [
        "data.describe()"
      ],
      "execution_count": null,
      "outputs": [
        {
          "output_type": "execute_result",
          "data": {
            "text/html": [
              "<div>\n",
              "<style scoped>\n",
              "    .dataframe tbody tr th:only-of-type {\n",
              "        vertical-align: middle;\n",
              "    }\n",
              "\n",
              "    .dataframe tbody tr th {\n",
              "        vertical-align: top;\n",
              "    }\n",
              "\n",
              "    .dataframe thead th {\n",
              "        text-align: right;\n",
              "    }\n",
              "</style>\n",
              "<table border=\"1\" class=\"dataframe\">\n",
              "  <thead>\n",
              "    <tr style=\"text-align: right;\">\n",
              "      <th></th>\n",
              "      <th>math score</th>\n",
              "      <th>reading score</th>\n",
              "      <th>writing score</th>\n",
              "      <th>total_score</th>\n",
              "      <th>average</th>\n",
              "    </tr>\n",
              "  </thead>\n",
              "  <tbody>\n",
              "    <tr>\n",
              "      <th>count</th>\n",
              "      <td>1000.00000</td>\n",
              "      <td>1000.000000</td>\n",
              "      <td>1000.000000</td>\n",
              "      <td>1000.000000</td>\n",
              "      <td>1000.000000</td>\n",
              "    </tr>\n",
              "    <tr>\n",
              "      <th>mean</th>\n",
              "      <td>66.08900</td>\n",
              "      <td>69.169000</td>\n",
              "      <td>68.054000</td>\n",
              "      <td>203.312000</td>\n",
              "      <td>67.762000</td>\n",
              "    </tr>\n",
              "    <tr>\n",
              "      <th>std</th>\n",
              "      <td>15.16308</td>\n",
              "      <td>14.600192</td>\n",
              "      <td>15.195657</td>\n",
              "      <td>42.771978</td>\n",
              "      <td>14.258354</td>\n",
              "    </tr>\n",
              "    <tr>\n",
              "      <th>min</th>\n",
              "      <td>0.00000</td>\n",
              "      <td>17.000000</td>\n",
              "      <td>10.000000</td>\n",
              "      <td>27.000000</td>\n",
              "      <td>9.000000</td>\n",
              "    </tr>\n",
              "    <tr>\n",
              "      <th>25%</th>\n",
              "      <td>57.00000</td>\n",
              "      <td>59.000000</td>\n",
              "      <td>57.750000</td>\n",
              "      <td>175.000000</td>\n",
              "      <td>58.000000</td>\n",
              "    </tr>\n",
              "    <tr>\n",
              "      <th>50%</th>\n",
              "      <td>66.00000</td>\n",
              "      <td>70.000000</td>\n",
              "      <td>69.000000</td>\n",
              "      <td>205.000000</td>\n",
              "      <td>68.000000</td>\n",
              "    </tr>\n",
              "    <tr>\n",
              "      <th>75%</th>\n",
              "      <td>77.00000</td>\n",
              "      <td>79.000000</td>\n",
              "      <td>79.000000</td>\n",
              "      <td>233.000000</td>\n",
              "      <td>78.000000</td>\n",
              "    </tr>\n",
              "    <tr>\n",
              "      <th>max</th>\n",
              "      <td>100.00000</td>\n",
              "      <td>100.000000</td>\n",
              "      <td>100.000000</td>\n",
              "      <td>300.000000</td>\n",
              "      <td>100.000000</td>\n",
              "    </tr>\n",
              "  </tbody>\n",
              "</table>\n",
              "</div>"
            ],
            "text/plain": [
              "       math score  reading score  writing score  total_score      average\n",
              "count  1000.00000    1000.000000    1000.000000  1000.000000  1000.000000\n",
              "mean     66.08900      69.169000      68.054000   203.312000    67.762000\n",
              "std      15.16308      14.600192      15.195657    42.771978    14.258354\n",
              "min       0.00000      17.000000      10.000000    27.000000     9.000000\n",
              "25%      57.00000      59.000000      57.750000   175.000000    58.000000\n",
              "50%      66.00000      70.000000      69.000000   205.000000    68.000000\n",
              "75%      77.00000      79.000000      79.000000   233.000000    78.000000\n",
              "max     100.00000     100.000000     100.000000   300.000000   100.000000"
            ]
          },
          "metadata": {},
          "execution_count": 5
        }
      ]
    },
    {
      "cell_type": "markdown",
      "metadata": {
        "id": "u8aiexNSxb6B"
      },
      "source": [
        "# Check missing values and duplicate rows"
      ]
    },
    {
      "cell_type": "code",
      "metadata": {
        "colab": {
          "base_uri": "https://localhost:8080/"
        },
        "id": "4pu0_6JZxTIW",
        "outputId": "cf556ae3-ef09-4b3c-c585-335236539830"
      },
      "source": [
        "data.isna().any().any()"
      ],
      "execution_count": null,
      "outputs": [
        {
          "output_type": "execute_result",
          "data": {
            "text/plain": [
              "False"
            ]
          },
          "metadata": {},
          "execution_count": 5
        }
      ]
    },
    {
      "cell_type": "code",
      "metadata": {
        "colab": {
          "base_uri": "https://localhost:8080/"
        },
        "id": "vvvTWLxsxk4W",
        "outputId": "a603cf6f-de08-4316-f5ba-2958e87fddfa"
      },
      "source": [
        "print(\"Numbers of duplicated rows :\",data.duplicated().sum())"
      ],
      "execution_count": null,
      "outputs": [
        {
          "output_type": "stream",
          "name": "stdout",
          "text": [
            "Numbers of duplicated rows : 0\n"
          ]
        }
      ]
    },
    {
      "cell_type": "markdown",
      "metadata": {
        "id": "fnxCWb7Jxq3F"
      },
      "source": [
        "# Data Exploration"
      ]
    },
    {
      "cell_type": "code",
      "metadata": {
        "colab": {
          "base_uri": "https://localhost:8080/",
          "height": 345
        },
        "id": "OxmkHLTOxvYO",
        "outputId": "117cf9a8-efd1-4adc-efb9-508af8d5d78e"
      },
      "source": [
        "import seaborn as sns\n",
        "sns.heatmap(data.corr(),annot=True)"
      ],
      "execution_count": null,
      "outputs": [
        {
          "output_type": "execute_result",
          "data": {
            "text/plain": [
              "<matplotlib.axes._subplots.AxesSubplot at 0x7f23c3b1fe10>"
            ]
          },
          "metadata": {},
          "execution_count": 7
        },
        {
          "output_type": "display_data",
          "data": {
            "image/png": "[encoded data removed]",
            "text/plain": [
              "<Figure size 432x288 with 2 Axes>"
            ]
          },
          "metadata": {
            "needs_background": "light"
          }
        }
      ]
    },
    {
      "cell_type": "markdown",
      "metadata": {
        "id": "2i37uXSpx7L-"
      },
      "source": [
        "# Data Visualization"
      ]
    },
    {
      "cell_type": "markdown",
      "metadata": {
        "id": "uHt90dopySSm"
      },
      "source": [
        "## Correlation check"
      ]
    },
    {
      "cell_type": "code",
      "metadata": {
        "colab": {
          "base_uri": "https://localhost:8080/",
          "height": 313
        },
        "id": "8c5_0Ueex-0N",
        "outputId": "c0c9710e-4b75-4253-9a4f-ac3c85c3525c"
      },
      "source": [
        "ax=sns.scatterplot(data=data, x='test preparation course', y='total_score',hue='gender')\n",
        "ax.set_title('Scatter plot of total_score vs test')"
      ],
      "execution_count": null,
      "outputs": [
        {
          "output_type": "execute_result",
          "data": {
            "text/plain": [
              "Text(0.5, 1.0, 'Scatter plot of total_score vs test')"
            ]
          },
          "metadata": {},
          "execution_count": 13
        },
        {
          "output_type": "display_data",
          "data": {
            "image/png": "[encoded data removed]",
            "text/plain": [
              "<Figure size 432x288 with 1 Axes>"
            ]
          },
          "metadata": {
            "needs_background": "light"
          }
        }
      ]
    },
    {
      "cell_type": "code",
      "metadata": {
        "colab": {
          "base_uri": "https://localhost:8080/",
          "height": 278
        },
        "id": "tFs1orr2gbp4",
        "outputId": "3805e934-223e-4150-bb8d-0116514da1c6"
      },
      "source": [
        "ax=sns.scatterplot(data=data, x='math score', y='total_score',hue='gender')"
      ],
      "execution_count": null,
      "outputs": [
        {
          "output_type": "display_data",
          "data": {
            "image/png": "[encoded data removed]",
            "text/plain": [
              "<Figure size 432x288 with 1 Axes>"
            ]
          },
          "metadata": {
            "needs_background": "light"
          }
        }
      ]
    },
    {
      "cell_type": "code",
      "metadata": {
        "colab": {
          "base_uri": "https://localhost:8080/",
          "height": 313
        },
        "id": "Jj8N09bX8uhe",
        "outputId": "83c11a83-e54d-4ac5-948b-992c33d91d8b"
      },
      "source": [
        "ax=sns.scatterplot(data=data, x='race/ethnicity', y='total_score',hue='gender')\n",
        "ax.set_title('Scatter plot of total_score vs race')"
      ],
      "execution_count": null,
      "outputs": [
        {
          "output_type": "execute_result",
          "data": {
            "text/plain": [
              "Text(0.5, 1.0, 'Scatter plot of total_score vs race')"
            ]
          },
          "metadata": {},
          "execution_count": 15
        },
        {
          "output_type": "display_data",
          "data": {
            "image/png": "[encoded data removed]",
            "text/plain": [
              "<Figure size 432x288 with 1 Axes>"
            ]
          },
          "metadata": {
            "needs_background": "light"
          }
        }
      ]
    },
    {
      "cell_type": "code",
      "metadata": {
        "colab": {
          "base_uri": "https://localhost:8080/",
          "height": 313
        },
        "id": "P2wyQf5f0jRP",
        "outputId": "704c8849-38a4-4f41-aef3-1c2fa0036f19"
      },
      "source": [
        "ax=sns.scatterplot(data=data, x='lunch', y='total_score',hue='gender')\n",
        "ax.set_title('Scatter plot of total_score vs lunch')"
      ],
      "execution_count": null,
      "outputs": [
        {
          "output_type": "execute_result",
          "data": {
            "text/plain": [
              "Text(0.5, 1.0, 'Scatter plot of total_score vs lunch')"
            ]
          },
          "metadata": {},
          "execution_count": 17
        },
        {
          "output_type": "display_data",
          "data": {
            "image/png": "[encoded data removed]",
            "text/plain": [
              "<Figure size 432x288 with 1 Axes>"
            ]
          },
          "metadata": {
            "needs_background": "light"
          }
        }
      ]
    },
    {
      "cell_type": "code",
      "metadata": {
        "colab": {
          "base_uri": "https://localhost:8080/",
          "height": 313
        },
        "id": "7tOsqsrJ9cnd",
        "outputId": "b5171dfb-2223-469b-acfc-317487b917f9"
      },
      "source": [
        "ax=sns.boxplot(data=data, x='test preparation course', y='total_score',hue='gender')\n",
        "ax.set_title('Scatter plot of total_score vs test')"
      ],
      "execution_count": null,
      "outputs": [
        {
          "output_type": "execute_result",
          "data": {
            "text/plain": [
              "Text(0.5, 1.0, 'Scatter plot of total_score vs test')"
            ]
          },
          "metadata": {},
          "execution_count": 18
        },
        {
          "output_type": "display_data",
          "data": {
            "image/png": "[encoded data removed]",
            "text/plain": [
              "<Figure size 432x288 with 1 Axes>"
            ]
          },
          "metadata": {
            "needs_background": "light"
          }
        }
      ]
    },
    {
      "cell_type": "code",
      "metadata": {
        "colab": {
          "base_uri": "https://localhost:8080/",
          "height": 313
        },
        "id": "IciOfQhj9gR1",
        "outputId": "569574db-9f71-4e33-a7cc-174f5120640e"
      },
      "source": [
        "ax=sns.boxplot(data=data, x='race/ethnicity', y='total_score',hue='gender')\n",
        "ax.set_title('Scatter plot of total_score vs race')"
      ],
      "execution_count": null,
      "outputs": [
        {
          "output_type": "execute_result",
          "data": {
            "text/plain": [
              "Text(0.5, 1.0, 'Scatter plot of total_score vs race')"
            ]
          },
          "metadata": {},
          "execution_count": 19
        },
        {
          "output_type": "display_data",
          "data": {
            "image/png": "[encoded data removed]",
            "text/plain": [
              "<Figure size 432x288 with 1 Axes>"
            ]
          },
          "metadata": {
            "needs_background": "light"
          }
        }
      ]
    },
    {
      "cell_type": "code",
      "metadata": {
        "colab": {
          "base_uri": "https://localhost:8080/",
          "height": 313
        },
        "id": "m75E0cem9mTl",
        "outputId": "c4cfae74-67be-4697-d274-015acf229c64"
      },
      "source": [
        "ax=sns.boxplot(data=data, x='lunch', y='total_score',hue='gender')\n",
        "ax.set_title('Scatter plot of total_score vs lunch')"
      ],
      "execution_count": null,
      "outputs": [
        {
          "output_type": "execute_result",
          "data": {
            "text/plain": [
              "Text(0.5, 1.0, 'Scatter plot of total_score vs lunch')"
            ]
          },
          "metadata": {},
          "execution_count": 20
        },
        {
          "output_type": "display_data",
          "data": {
            "image/png": "[encoded data removed]",
            "text/plain": [
              "<Figure size 432x288 with 1 Axes>"
            ]
          },
          "metadata": {
            "needs_background": "light"
          }
        }
      ]
    },
    {
      "cell_type": "markdown",
      "metadata": {
        "id": "T5BMSPfo9zdW"
      },
      "source": [
        "## Assumption Check"
      ]
    },
    {
      "cell_type": "code",
      "metadata": {
        "colab": {
          "base_uri": "https://localhost:8080/",
          "height": 370
        },
        "id": "eaLyM-Bq98qe",
        "outputId": "b2031f0a-b9fc-43fe-8244-dc0b24f2876d"
      },
      "source": [
        "ax=sns.distplot(data['math score'],bins=40)\n",
        "ax.set_title('Distribution of math score')"
      ],
      "execution_count": null,
      "outputs": [
        {
          "output_type": "stream",
          "name": "stderr",
          "text": [
            "/usr/local/lib/python3.7/dist-packages/seaborn/distributions.py:2619: FutureWarning: `distplot` is a deprecated function and will be removed in a future version. Please adapt your code to use either `displot` (a figure-level function with similar flexibility) or `histplot` (an axes-level function for histograms).\n",
            "  warnings.warn(msg, FutureWarning)\n"
          ]
        },
        {
          "output_type": "execute_result",
          "data": {
            "text/plain": [
              "Text(0.5, 1.0, 'Distribution of math score')"
            ]
          },
          "metadata": {},
          "execution_count": 22
        },
        {
          "output_type": "display_data",
          "data": {
            "image/png": "[encoded data removed]",
            "text/plain": [
              "<Figure size 432x288 with 1 Axes>"
            ]
          },
          "metadata": {
            "needs_background": "light"
          }
        }
      ]
    },
    {
      "cell_type": "code",
      "metadata": {
        "colab": {
          "base_uri": "https://localhost:8080/",
          "height": 370
        },
        "id": "YGuTWM1q-ImP",
        "outputId": "f32d4299-ad7f-4782-f037-396caba996b6"
      },
      "source": [
        "ax=sns.distplot(data['reading score'],bins=40)\n",
        "ax.set_title('Distribution of reading score')"
      ],
      "execution_count": null,
      "outputs": [
        {
          "output_type": "stream",
          "name": "stderr",
          "text": [
            "/usr/local/lib/python3.7/dist-packages/seaborn/distributions.py:2619: FutureWarning: `distplot` is a deprecated function and will be removed in a future version. Please adapt your code to use either `displot` (a figure-level function with similar flexibility) or `histplot` (an axes-level function for histograms).\n",
            "  warnings.warn(msg, FutureWarning)\n"
          ]
        },
        {
          "output_type": "execute_result",
          "data": {
            "text/plain": [
              "Text(0.5, 1.0, 'Distribution of reading score')"
            ]
          },
          "metadata": {},
          "execution_count": 25
        },
        {
          "output_type": "display_data",
          "data": {
            "image/png": "[encoded data removed]",
            "text/plain": [
              "<Figure size 432x288 with 1 Axes>"
            ]
          },
          "metadata": {
            "needs_background": "light"
          }
        }
      ]
    },
    {
      "cell_type": "code",
      "metadata": {
        "colab": {
          "base_uri": "https://localhost:8080/",
          "height": 370
        },
        "id": "aYh1Jma0-NOG",
        "outputId": "fc644163-60b4-4fde-f957-8478e9ecf024"
      },
      "source": [
        "ax=sns.distplot(data['writing score'],bins=40)\n",
        "ax.set_title('Distribution of writing score')"
      ],
      "execution_count": null,
      "outputs": [
        {
          "output_type": "stream",
          "name": "stderr",
          "text": [
            "/usr/local/lib/python3.7/dist-packages/seaborn/distributions.py:2619: FutureWarning: `distplot` is a deprecated function and will be removed in a future version. Please adapt your code to use either `displot` (a figure-level function with similar flexibility) or `histplot` (an axes-level function for histograms).\n",
            "  warnings.warn(msg, FutureWarning)\n"
          ]
        },
        {
          "output_type": "execute_result",
          "data": {
            "text/plain": [
              "Text(0.5, 1.0, 'Distribution of writing score')"
            ]
          },
          "metadata": {},
          "execution_count": 26
        },
        {
          "output_type": "display_data",
          "data": {
            "image/png": "[encoded data removed]",
            "text/plain": [
              "<Figure size 432x288 with 1 Axes>"
            ]
          },
          "metadata": {
            "needs_background": "light"
          }
        }
      ]
    },
    {
      "cell_type": "code",
      "metadata": {
        "colab": {
          "base_uri": "https://localhost:8080/",
          "height": 371
        },
        "id": "tVRMa8sF-PNe",
        "outputId": "f6688598-35e4-41e1-f3c4-eb2c3d754bca"
      },
      "source": [
        "ax=sns.distplot(data['total_score'],bins=40)\n",
        "ax.set_title('Distribution of total score')"
      ],
      "execution_count": null,
      "outputs": [
        {
          "output_type": "stream",
          "name": "stderr",
          "text": [
            "/usr/local/lib/python3.7/dist-packages/seaborn/distributions.py:2619: FutureWarning: `distplot` is a deprecated function and will be removed in a future version. Please adapt your code to use either `displot` (a figure-level function with similar flexibility) or `histplot` (an axes-level function for histograms).\n",
            "  warnings.warn(msg, FutureWarning)\n"
          ]
        },
        {
          "output_type": "execute_result",
          "data": {
            "text/plain": [
              "Text(0.5, 1.0, 'Distribution of total score')"
            ]
          },
          "metadata": {},
          "execution_count": 28
        },
        {
          "output_type": "display_data",
          "data": {
            "image/png": "[encoded data removed]",
            "text/plain": [
              "<Figure size 432x288 with 1 Axes>"
            ]
          },
          "metadata": {
            "needs_background": "light"
          }
        }
      ]
    },
    {
      "cell_type": "code",
      "metadata": {
        "colab": {
          "base_uri": "https://localhost:8080/",
          "height": 370
        },
        "id": "0uq1HH-w-ZYn",
        "outputId": "1c8e25f7-406d-470e-e7ec-1e3845c169cd"
      },
      "source": [
        "ax=sns.distplot(data['average'],bins=40)\n",
        "ax.set_title('Distribution of average score')"
      ],
      "execution_count": null,
      "outputs": [
        {
          "output_type": "stream",
          "name": "stderr",
          "text": [
            "/usr/local/lib/python3.7/dist-packages/seaborn/distributions.py:2619: FutureWarning: `distplot` is a deprecated function and will be removed in a future version. Please adapt your code to use either `displot` (a figure-level function with similar flexibility) or `histplot` (an axes-level function for histograms).\n",
            "  warnings.warn(msg, FutureWarning)\n"
          ]
        },
        {
          "output_type": "execute_result",
          "data": {
            "text/plain": [
              "Text(0.5, 1.0, 'Distribution of average score')"
            ]
          },
          "metadata": {},
          "execution_count": 29
        },
        {
          "output_type": "display_data",
          "data": {
            "image/png": "[encoded data removed]",
            "text/plain": [
              "<Figure size 432x288 with 1 Axes>"
            ]
          },
          "metadata": {
            "needs_background": "light"
          }
        }
      ]
    },
    {
      "cell_type": "markdown",
      "metadata": {
        "id": "hn8j87WG-ph1"
      },
      "source": [
        "# Pre processing"
      ]
    },
    {
      "cell_type": "code",
      "metadata": {
        "colab": {
          "base_uri": "https://localhost:8080/",
          "height": 206
        },
        "id": "KRIFKKyS-yqd",
        "outputId": "755efbdf-4756-4bad-cd61-8d591ecda079"
      },
      "source": [
        "from sklearn import preprocessing\n",
        "label_encoder=preprocessing.LabelEncoder()\n",
        "\n",
        "data['gender']=label_encoder.fit_transform(data['gender'])\n",
        "data['race/ethnicity']=label_encoder.fit_transform(data['race/ethnicity'])\n",
        "data['parental level of education']=label_encoder.fit_transform(data['parental level of education'])\n",
        "data['lunch']=label_encoder.fit_transform(data['lunch'])\n",
        "data['test preparation course']=label_encoder.fit_transform(data['test preparation course'])\n",
        "\n",
        "data.head()"
      ],
      "execution_count": 26,
      "outputs": [
        {
          "output_type": "execute_result",
          "data": {
            "text/html": [
              "<div>\n",
              "<style scoped>\n",
              "    .dataframe tbody tr th:only-of-type {\n",
              "        vertical-align: middle;\n",
              "    }\n",
              "\n",
              "    .dataframe tbody tr th {\n",
              "        vertical-align: top;\n",
              "    }\n",
              "\n",
              "    .dataframe thead th {\n",
              "        text-align: right;\n",
              "    }\n",
              "</style>\n",
              "<table border=\"1\" class=\"dataframe\">\n",
              "  <thead>\n",
              "    <tr style=\"text-align: right;\">\n",
              "      <th></th>\n",
              "      <th>gender</th>\n",
              "      <th>race/ethnicity</th>\n",
              "      <th>parental level of education</th>\n",
              "      <th>lunch</th>\n",
              "      <th>test preparation course</th>\n",
              "      <th>math score</th>\n",
              "      <th>reading score</th>\n",
              "      <th>writing score</th>\n",
              "    </tr>\n",
              "  </thead>\n",
              "  <tbody>\n",
              "    <tr>\n",
              "      <th>0</th>\n",
              "      <td>0</td>\n",
              "      <td>1</td>\n",
              "      <td>1</td>\n",
              "      <td>1</td>\n",
              "      <td>1</td>\n",
              "      <td>72</td>\n",
              "      <td>72</td>\n",
              "      <td>74</td>\n",
              "    </tr>\n",
              "    <tr>\n",
              "      <th>1</th>\n",
              "      <td>0</td>\n",
              "      <td>2</td>\n",
              "      <td>4</td>\n",
              "      <td>1</td>\n",
              "      <td>0</td>\n",
              "      <td>69</td>\n",
              "      <td>90</td>\n",
              "      <td>88</td>\n",
              "    </tr>\n",
              "    <tr>\n",
              "      <th>2</th>\n",
              "      <td>0</td>\n",
              "      <td>1</td>\n",
              "      <td>3</td>\n",
              "      <td>1</td>\n",
              "      <td>1</td>\n",
              "      <td>90</td>\n",
              "      <td>95</td>\n",
              "      <td>93</td>\n",
              "    </tr>\n",
              "    <tr>\n",
              "      <th>3</th>\n",
              "      <td>1</td>\n",
              "      <td>0</td>\n",
              "      <td>0</td>\n",
              "      <td>0</td>\n",
              "      <td>1</td>\n",
              "      <td>47</td>\n",
              "      <td>57</td>\n",
              "      <td>44</td>\n",
              "    </tr>\n",
              "    <tr>\n",
              "      <th>4</th>\n",
              "      <td>1</td>\n",
              "      <td>2</td>\n",
              "      <td>4</td>\n",
              "      <td>1</td>\n",
              "      <td>1</td>\n",
              "      <td>76</td>\n",
              "      <td>78</td>\n",
              "      <td>75</td>\n",
              "    </tr>\n",
              "  </tbody>\n",
              "</table>\n",
              "</div>"
            ],
            "text/plain": [
              "   gender  race/ethnicity  ...  reading score  writing score\n",
              "0       0               1  ...             72             74\n",
              "1       0               2  ...             90             88\n",
              "2       0               1  ...             95             93\n",
              "3       1               0  ...             57             44\n",
              "4       1               2  ...             78             75\n",
              "\n",
              "[5 rows x 8 columns]"
            ]
          },
          "metadata": {},
          "execution_count": 26
        }
      ]
    },
    {
      "cell_type": "code",
      "metadata": {
        "id": "MnSwQHB-_NJ-"
      },
      "source": [
        "from sklearn.model_selection import train_test_split\n",
        "Y=data.total_score\n",
        "X=data.drop([\"total_score\"],axis=1)\n",
        "x_train,x_test,y_train,y_test=train_test_split(X,Y,test_size=0.2,random_state=42)"
      ],
      "execution_count": null,
      "outputs": []
    },
    {
      "cell_type": "markdown",
      "metadata": {
        "id": "zqHMgU_9Yr9o"
      },
      "source": [
        "# PCA"
      ]
    },
    {
      "cell_type": "code",
      "metadata": {
        "id": "mD8_QPTGYrFa"
      },
      "source": [
        "from sklearn.preprocessing import StandardScaler\n",
        "\n",
        "scaler = StandardScaler()\n",
        "scaler.fit(X)\n",
        "X_std = scaler.transform(X)"
      ],
      "execution_count": null,
      "outputs": []
    },
    {
      "cell_type": "code",
      "metadata": {
        "colab": {
          "base_uri": "https://localhost:8080/",
          "height": 190
        },
        "id": "DFKmvtzBZJrq",
        "outputId": "ec2997d0-33c7-41b4-97a5-68b420b07c70"
      },
      "source": [
        "new_df = pd.DataFrame(data = X_std, columns = feats)\n",
        "new_df.describe()"
      ],
      "execution_count": null,
      "outputs": [
        {
          "output_type": "error",
          "ename": "NameError",
          "evalue": "ignored",
          "traceback": [
            "\u001b[0;31m---------------------------------------------------------------------------\u001b[0m",
            "\u001b[0;31mNameError\u001b[0m                                 Traceback (most recent call last)",
            "\u001b[0;32m<ipython-input-10-d5585f97a3d8>\u001b[0m in \u001b[0;36m<module>\u001b[0;34m()\u001b[0m\n\u001b[0;32m----> 1\u001b[0;31m \u001b[0mnew_df\u001b[0m \u001b[0;34m=\u001b[0m \u001b[0mpd\u001b[0m\u001b[0;34m.\u001b[0m\u001b[0mDataFrame\u001b[0m\u001b[0;34m(\u001b[0m\u001b[0mdata\u001b[0m \u001b[0;34m=\u001b[0m \u001b[0mX_std\u001b[0m\u001b[0;34m,\u001b[0m \u001b[0mcolumns\u001b[0m \u001b[0;34m=\u001b[0m \u001b[0mfeats\u001b[0m\u001b[0;34m)\u001b[0m\u001b[0;34m\u001b[0m\u001b[0;34m\u001b[0m\u001b[0m\n\u001b[0m\u001b[1;32m      2\u001b[0m \u001b[0mnew_df\u001b[0m\u001b[0;34m.\u001b[0m\u001b[0mdescribe\u001b[0m\u001b[0;34m(\u001b[0m\u001b[0;34m)\u001b[0m\u001b[0;34m\u001b[0m\u001b[0;34m\u001b[0m\u001b[0m\n",
            "\u001b[0;31mNameError\u001b[0m: name 'feats' is not defined"
          ]
        }
      ]
    },
    {
      "cell_type": "markdown",
      "metadata": {
        "id": "_DjzWWoS_oD1"
      },
      "source": [
        "# Modelling"
      ]
    },
    {
      "cell_type": "code",
      "metadata": {
        "colab": {
          "base_uri": "https://localhost:8080/"
        },
        "id": "d8jJQp8A_YfO",
        "outputId": "87bf1fc8-7ea4-4543-a608-533062859a4f"
      },
      "source": [
        "from sklearn.model_selection import train_test_split as holdout\n",
        "from sklearn.linear_model import LinearRegression\n",
        "from sklearn import metrics\n",
        "lin_reg = LinearRegression()\n",
        "lin_reg.fit(x_train, y_train)"
      ],
      "execution_count": null,
      "outputs": [
        {
          "output_type": "execute_result",
          "data": {
            "text/plain": [
              "LinearRegression()"
            ]
          },
          "metadata": {},
          "execution_count": 11
        }
      ]
    },
    {
      "cell_type": "code",
      "metadata": {
        "colab": {
          "base_uri": "https://localhost:8080/"
        },
        "id": "VVfo48y__tcl",
        "outputId": "3396c4b0-6c4c-4de1-9374-146046ae867f"
      },
      "source": [
        "print(lin_reg.intercept_)\n",
        "print(lin_reg.coef_)"
      ],
      "execution_count": null,
      "outputs": [
        {
          "output_type": "stream",
          "name": "stdout",
          "text": [
            "-5.684341886080802e-14\n",
            "[ 1.92136409e-14 -3.33066907e-15 -3.09257828e-15  2.56663180e-15\n",
            " -2.09684700e-16  1.00000000e+00  1.00000000e+00  1.00000000e+00\n",
            " -2.05391260e-15]\n"
          ]
        }
      ]
    },
    {
      "cell_type": "code",
      "metadata": {
        "colab": {
          "base_uri": "https://localhost:8080/",
          "height": 363
        },
        "id": "OjBow_wK_2M-",
        "outputId": "46a32dd0-f16d-4735-e30f-df8df06e146f"
      },
      "source": [
        "parameter = ['theta_'+str(i) for i in range(X.shape[1]+1)]\n",
        "columns = ['intersect:x_0=1'] + list(X.columns.values)\n",
        "sk_theta = [lin_reg.intercept_]+list(lin_reg.coef_)\n",
        "parameter_df = pd.DataFrame({'Parameter':parameter,'Columns':columns,'coeff':sk_theta})\n",
        "parameter_df"
      ],
      "execution_count": null,
      "outputs": [
        {
          "output_type": "execute_result",
          "data": {
            "text/html": [
              "<div>\n",
              "<style scoped>\n",
              "    .dataframe tbody tr th:only-of-type {\n",
              "        vertical-align: middle;\n",
              "    }\n",
              "\n",
              "    .dataframe tbody tr th {\n",
              "        vertical-align: top;\n",
              "    }\n",
              "\n",
              "    .dataframe thead th {\n",
              "        text-align: right;\n",
              "    }\n",
              "</style>\n",
              "<table border=\"1\" class=\"dataframe\">\n",
              "  <thead>\n",
              "    <tr style=\"text-align: right;\">\n",
              "      <th></th>\n",
              "      <th>Parameter</th>\n",
              "      <th>Columns</th>\n",
              "      <th>coeff</th>\n",
              "    </tr>\n",
              "  </thead>\n",
              "  <tbody>\n",
              "    <tr>\n",
              "      <th>0</th>\n",
              "      <td>theta_0</td>\n",
              "      <td>intersect:x_0=1</td>\n",
              "      <td>-5.684342e-14</td>\n",
              "    </tr>\n",
              "    <tr>\n",
              "      <th>1</th>\n",
              "      <td>theta_1</td>\n",
              "      <td>gender</td>\n",
              "      <td>1.921364e-14</td>\n",
              "    </tr>\n",
              "    <tr>\n",
              "      <th>2</th>\n",
              "      <td>theta_2</td>\n",
              "      <td>race/ethnicity</td>\n",
              "      <td>-3.330669e-15</td>\n",
              "    </tr>\n",
              "    <tr>\n",
              "      <th>3</th>\n",
              "      <td>theta_3</td>\n",
              "      <td>parental level of education</td>\n",
              "      <td>-3.092578e-15</td>\n",
              "    </tr>\n",
              "    <tr>\n",
              "      <th>4</th>\n",
              "      <td>theta_4</td>\n",
              "      <td>lunch</td>\n",
              "      <td>2.566632e-15</td>\n",
              "    </tr>\n",
              "    <tr>\n",
              "      <th>5</th>\n",
              "      <td>theta_5</td>\n",
              "      <td>test preparation course</td>\n",
              "      <td>-2.096847e-16</td>\n",
              "    </tr>\n",
              "    <tr>\n",
              "      <th>6</th>\n",
              "      <td>theta_6</td>\n",
              "      <td>math score</td>\n",
              "      <td>1.000000e+00</td>\n",
              "    </tr>\n",
              "    <tr>\n",
              "      <th>7</th>\n",
              "      <td>theta_7</td>\n",
              "      <td>reading score</td>\n",
              "      <td>1.000000e+00</td>\n",
              "    </tr>\n",
              "    <tr>\n",
              "      <th>8</th>\n",
              "      <td>theta_8</td>\n",
              "      <td>writing score</td>\n",
              "      <td>1.000000e+00</td>\n",
              "    </tr>\n",
              "    <tr>\n",
              "      <th>9</th>\n",
              "      <td>theta_9</td>\n",
              "      <td>average</td>\n",
              "      <td>-2.053913e-15</td>\n",
              "    </tr>\n",
              "  </tbody>\n",
              "</table>\n",
              "</div>"
            ],
            "text/plain": [
              "  Parameter                      Columns         coeff\n",
              "0   theta_0              intersect:x_0=1 -5.684342e-14\n",
              "1   theta_1                       gender  1.921364e-14\n",
              "2   theta_2               race/ethnicity -3.330669e-15\n",
              "3   theta_3  parental level of education -3.092578e-15\n",
              "4   theta_4                        lunch  2.566632e-15\n",
              "5   theta_5      test preparation course -2.096847e-16\n",
              "6   theta_6                   math score  1.000000e+00\n",
              "7   theta_7                reading score  1.000000e+00\n",
              "8   theta_8                writing score  1.000000e+00\n",
              "9   theta_9                      average -2.053913e-15"
            ]
          },
          "metadata": {},
          "execution_count": 13
        }
      ]
    },
    {
      "cell_type": "code",
      "metadata": {
        "colab": {
          "base_uri": "https://localhost:8080/"
        },
        "id": "MnHDDQF7_5Id",
        "outputId": "1b3cb6fb-68bf-403f-f6a6-3fd6d2ddea05"
      },
      "source": [
        "y_pred = lin_reg.predict(x_test)\n",
        "y_actual_pred=np.exp(y_pred)\n",
        "y_actual_pred"
      ],
      "execution_count": null,
      "outputs": [
        {
          "output_type": "execute_result",
          "data": {
            "text/plain": [
              "array([2.24315755e+113, 2.42404415e+083, 5.20305514e+097, 1.91409702e+097,\n",
              "       2.52434126e+106, 4.21607925e+101, 5.33931255e+087, 7.41520730e+076,\n",
              "       5.70584279e+100, 2.55266814e+063, 1.71997426e+061, 7.49841700e+033,\n",
              "       1.04506156e+099, 1.00353918e+076, 1.01839195e+109, 5.20305514e+097,\n",
              "       6.93887142e+063, 9.39074129e+062, 3.06984964e+069, 8.13176221e+079,\n",
              "       3.50579098e+095, 1.88618081e+064, 4.43979173e+081, 2.12261687e+057,\n",
              "       2.30190127e+103, 5.70584279e+100, 6.42108015e+093, 1.39370958e+065,\n",
              "       2.61951732e+053, 3.36649891e+072, 1.48938420e+078, 1.96422332e+087,\n",
              "       4.04856601e+078, 1.28970842e+095, 5.70584279e+100, 2.79934052e+066,\n",
              "       1.04506156e+099, 7.04156941e+096, 5.20305514e+097, 5.32048241e+011,\n",
              "       4.21607925e+101, 6.58923516e+083, 1.32348326e+085, 8.13176221e+079,\n",
              "       2.76827633e+109, 3.59760050e+085, 3.19686757e+092, 1.65163625e+038,\n",
              "       3.03578362e+112, 3.11528461e+102, 6.42108015e+093, 8.68998701e+092,\n",
              "       3.11528461e+102, 2.26832912e+070, 2.36218338e+093, 1.74543055e+094,\n",
              "       1.37824363e+108, 1.67608111e+071, 2.52434126e+106, 9.04954342e+115,\n",
              "       2.87264955e+056, 1.25679551e+105, 8.46822154e+102, 2.21044214e+080,\n",
              "       1.65748169e+114, 9.52972790e+095, 4.86882283e+084, 1.67608111e+071,\n",
              "       1.79113982e+084, 3.32914098e+115, 6.58923516e+083, 3.03578362e+112,\n",
              "       2.48752493e+073, 1.39370958e+065, 1.48938420e+078, 7.72201850e+099,\n",
              "       6.68675840e+116, 6.76179381e+073, 5.47913827e+077, 6.93887142e+063,\n",
              "       8.13176221e+079, 4.79781333e+051, 4.21607925e+101, 2.91516588e+089,\n",
              "       1.45137563e+088, 6.58923516e+083, 7.04156941e+096, 3.94524800e+088,\n",
              "       2.76827633e+109, 2.51543867e+030, 2.09906226e+100, 3.24418245e+125,\n",
              "       8.13176221e+079, 3.19686757e+092, 4.48961282e+038, 7.92424244e+089,\n",
              "       1.10051434e+079, 4.86882283e+084, 3.50579098e+095, 1.79113982e+084,\n",
              "       7.04156941e+096, 1.00353918e+076, 7.41520730e+076, 1.07242959e+089,\n",
              "       5.85526719e+090, 4.86882283e+084, 8.56324762e+059, 3.84456663e+098,\n",
              "       2.84077185e+099, 1.52838814e+068, 6.49313426e+050, 1.70088776e+104,\n",
              "       2.26832912e+070, 9.15109281e+072, 1.86524992e+107, 4.99632738e+074,\n",
              "       2.55266814e+063, 3.45466066e+062, 1.59162664e+091, 1.14604916e+102,\n",
              "       3.28058702e+082, 8.91756007e+082, 6.86187098e+106, 3.50579098e+095,\n",
              "       9.77929207e+085, 1.96422332e+087, 1.04506156e+099, 4.74457215e+094,\n",
              "       3.45466066e+062, 2.15403242e+090, 1.04506156e+099, 1.91409702e+097,\n",
              "       4.67537478e+061, 2.95831147e+122, 2.91516588e+089, 6.49313426e+050,\n",
              "       8.25211544e+112, 1.25679551e+105, 1.28970842e+095, 6.32743171e+060,\n",
              "       3.06984964e+069, 1.32348326e+085, 1.35814259e+075, 2.32773204e+060,\n",
              "       8.46822154e+102, 2.26832912e+070, 1.76501689e+051, 4.74457215e+094,\n",
              "       1.02981983e+066, 1.70088776e+104, 1.55100888e+101, 4.21607925e+101,\n",
              "       2.21044214e+080, 2.21044214e+080, 1.22472252e+115, 1.74543055e+094,\n",
              "       4.15458971e+068, 1.96422332e+087, 5.20305514e+097, 5.62262575e+067,\n",
              "       7.92424244e+089, 9.77929207e+085, 2.84077185e+099, 3.06984964e+069,\n",
              "       2.76827633e+109, 2.15403242e+090, 1.15890954e+059, 3.32914098e+115,\n",
              "       9.77929207e+085, 2.84077185e+099, 1.86524992e+107, 8.68998701e+092,\n",
              "       4.50550237e+114, 3.11528461e+102, 1.67608111e+071, 2.45124554e+040,\n",
              "       4.15458971e+068, 3.84456663e+098, 7.33292098e+119, 1.04506156e+099,\n",
              "       6.00860471e+080, 1.59162664e+091, 4.00363920e+121, 7.41520730e+076,\n",
              "       3.03578362e+112, 4.04856601e+078, 1.45137563e+088, 3.36649891e+072,\n",
              "       4.32648977e+091, 4.10848636e+111, 3.78849543e+065, 1.00353918e+076,\n",
              "       2.15403242e+090, 1.55100888e+101, 3.36649891e+072, 4.55606083e+071,\n",
              "       1.83804612e+074, 2.09906226e+100, 6.42108015e+093, 7.92424244e+089])"
            ]
          },
          "metadata": {},
          "execution_count": 14
        }
      ]
    },
    {
      "cell_type": "code",
      "metadata": {
        "colab": {
          "base_uri": "https://localhost:8080/",
          "height": 688
        },
        "id": "Ny5KrffuACZf",
        "outputId": "aa8a0667-0167-48d1-d502-21617c79bc6d"
      },
      "source": [
        "import statsmodels.api as sm\n",
        "x_train1 = sm.add_constant(x_train)\n",
        "results = sm.OLS(y_train,x_train1).fit()\n",
        "results.summary()"
      ],
      "execution_count": null,
      "outputs": [
        {
          "output_type": "stream",
          "name": "stderr",
          "text": [
            "/usr/local/lib/python3.7/dist-packages/statsmodels/tools/_testing.py:19: FutureWarning: pandas.util.testing is deprecated. Use the functions in the public API at pandas.testing instead.\n",
            "  import pandas.util.testing as tm\n"
          ]
        },
        {
          "output_type": "execute_result",
          "data": {
            "text/html": [
              "<table class=\"simpletable\">\n",
              "<caption>OLS Regression Results</caption>\n",
              "<tr>\n",
              "  <th>Dep. Variable:</th>       <td>total_score</td>   <th>  R-squared:         </th>  <td>   1.000</td> \n",
              "</tr>\n",
              "<tr>\n",
              "  <th>Model:</th>                   <td>OLS</td>       <th>  Adj. R-squared:    </th>  <td>   1.000</td> \n",
              "</tr>\n",
              "<tr>\n",
              "  <th>Method:</th>             <td>Least Squares</td>  <th>  F-statistic:       </th>  <td>8.591e+28</td>\n",
              "</tr>\n",
              "<tr>\n",
              "  <th>Date:</th>             <td>Thu, 25 Nov 2021</td> <th>  Prob (F-statistic):</th>   <td>  0.00</td>  \n",
              "</tr>\n",
              "<tr>\n",
              "  <th>Time:</th>                 <td>14:19:31</td>     <th>  Log-Likelihood:    </th>  <td>  20727.</td> \n",
              "</tr>\n",
              "<tr>\n",
              "  <th>No. Observations:</th>      <td>   800</td>      <th>  AIC:               </th> <td>-4.143e+04</td>\n",
              "</tr>\n",
              "<tr>\n",
              "  <th>Df Residuals:</th>          <td>   790</td>      <th>  BIC:               </th> <td>-4.139e+04</td>\n",
              "</tr>\n",
              "<tr>\n",
              "  <th>Df Model:</th>              <td>     9</td>      <th>                     </th>      <td> </td>    \n",
              "</tr>\n",
              "<tr>\n",
              "  <th>Covariance Type:</th>      <td>nonrobust</td>    <th>                     </th>      <td> </td>    \n",
              "</tr>\n",
              "</table>\n",
              "<table class=\"simpletable\">\n",
              "<tr>\n",
              "               <td></td>                  <th>coef</th>     <th>std err</th>      <th>t</th>      <th>P>|t|</th>  <th>[0.025</th>    <th>0.975]</th>  \n",
              "</tr>\n",
              "<tr>\n",
              "  <th>const</th>                       <td> 4.974e-14</td> <td> 3.35e-13</td> <td>    0.148</td> <td> 0.882</td> <td>-6.08e-13</td> <td> 7.08e-13</td>\n",
              "</tr>\n",
              "<tr>\n",
              "  <th>gender</th>                      <td> 2.132e-14</td> <td> 1.54e-13</td> <td>    0.139</td> <td> 0.890</td> <td>-2.81e-13</td> <td> 3.23e-13</td>\n",
              "</tr>\n",
              "<tr>\n",
              "  <th>race/ethnicity</th>              <td> -1.11e-15</td> <td>  4.3e-14</td> <td>   -0.026</td> <td> 0.979</td> <td>-8.55e-14</td> <td> 8.33e-14</td>\n",
              "</tr>\n",
              "<tr>\n",
              "  <th>parental level of education</th> <td> 8.882e-16</td> <td> 2.68e-14</td> <td>    0.033</td> <td> 0.974</td> <td>-5.17e-14</td> <td> 5.35e-14</td>\n",
              "</tr>\n",
              "<tr>\n",
              "  <th>lunch</th>                       <td> 7.105e-15</td> <td> 1.12e-13</td> <td>    0.064</td> <td> 0.949</td> <td>-2.12e-13</td> <td> 2.26e-13</td>\n",
              "</tr>\n",
              "<tr>\n",
              "  <th>test preparation course</th>     <td>-1.066e-14</td> <td> 1.14e-13</td> <td>   -0.093</td> <td> 0.926</td> <td>-2.35e-13</td> <td> 2.14e-13</td>\n",
              "</tr>\n",
              "<tr>\n",
              "  <th>math score</th>                  <td>    1.0000</td> <td> 6.01e-14</td> <td> 1.66e+13</td> <td> 0.000</td> <td>    1.000</td> <td>    1.000</td>\n",
              "</tr>\n",
              "<tr>\n",
              "  <th>reading score</th>               <td>    1.0000</td> <td> 5.98e-14</td> <td> 1.67e+13</td> <td> 0.000</td> <td>    1.000</td> <td>    1.000</td>\n",
              "</tr>\n",
              "<tr>\n",
              "  <th>writing score</th>               <td>    1.0000</td> <td> 6.03e-14</td> <td> 1.66e+13</td> <td> 0.000</td> <td>    1.000</td> <td>    1.000</td>\n",
              "</tr>\n",
              "<tr>\n",
              "  <th>average</th>                     <td>-1.066e-14</td> <td> 1.77e-13</td> <td>   -0.060</td> <td> 0.952</td> <td>-3.58e-13</td> <td> 3.37e-13</td>\n",
              "</tr>\n",
              "</table>\n",
              "<table class=\"simpletable\">\n",
              "<tr>\n",
              "  <th>Omnibus:</th>       <td> 3.300</td> <th>  Durbin-Watson:     </th> <td>   0.093</td>\n",
              "</tr>\n",
              "<tr>\n",
              "  <th>Prob(Omnibus):</th> <td> 0.192</td> <th>  Jarque-Bera (JB):  </th> <td>   3.271</td>\n",
              "</tr>\n",
              "<tr>\n",
              "  <th>Skew:</th>          <td>-0.157</td> <th>  Prob(JB):          </th> <td>   0.195</td>\n",
              "</tr>\n",
              "<tr>\n",
              "  <th>Kurtosis:</th>      <td> 2.995</td> <th>  Cond. No.          </th> <td>1.01e+03</td>\n",
              "</tr>\n",
              "</table><br/><br/>Warnings:<br/>[1] Standard Errors assume that the covariance matrix of the errors is correctly specified.<br/>[2] The condition number is large, 1.01e+03. This might indicate that there are<br/>strong multicollinearity or other numerical problems."
            ],
            "text/plain": [
              "<class 'statsmodels.iolib.summary.Summary'>\n",
              "\"\"\"\n",
              "                            OLS Regression Results                            \n",
              "==============================================================================\n",
              "Dep. Variable:            total_score   R-squared:                       1.000\n",
              "Model:                            OLS   Adj. R-squared:                  1.000\n",
              "Method:                 Least Squares   F-statistic:                 8.591e+28\n",
              "Date:                Thu, 25 Nov 2021   Prob (F-statistic):               0.00\n",
              "Time:                        14:19:31   Log-Likelihood:                 20727.\n",
              "No. Observations:                 800   AIC:                        -4.143e+04\n",
              "Df Residuals:                     790   BIC:                        -4.139e+04\n",
              "Df Model:                           9                                         \n",
              "Covariance Type:            nonrobust                                         \n",
              "===============================================================================================\n",
              "                                  coef    std err          t      P>|t|      [0.025      0.975]\n",
              "-----------------------------------------------------------------------------------------------\n",
              "const                        4.974e-14   3.35e-13      0.148      0.882   -6.08e-13    7.08e-13\n",
              "gender                       2.132e-14   1.54e-13      0.139      0.890   -2.81e-13    3.23e-13\n",
              "race/ethnicity               -1.11e-15    4.3e-14     -0.026      0.979   -8.55e-14    8.33e-14\n",
              "parental level of education  8.882e-16   2.68e-14      0.033      0.974   -5.17e-14    5.35e-14\n",
              "lunch                        7.105e-15   1.12e-13      0.064      0.949   -2.12e-13    2.26e-13\n",
              "test preparation course     -1.066e-14   1.14e-13     -0.093      0.926   -2.35e-13    2.14e-13\n",
              "math score                      1.0000   6.01e-14   1.66e+13      0.000       1.000       1.000\n",
              "reading score                   1.0000   5.98e-14   1.67e+13      0.000       1.000       1.000\n",
              "writing score                   1.0000   6.03e-14   1.66e+13      0.000       1.000       1.000\n",
              "average                     -1.066e-14   1.77e-13     -0.060      0.952   -3.58e-13    3.37e-13\n",
              "==============================================================================\n",
              "Omnibus:                        3.300   Durbin-Watson:                   0.093\n",
              "Prob(Omnibus):                  0.192   Jarque-Bera (JB):                3.271\n",
              "Skew:                          -0.157   Prob(JB):                        0.195\n",
              "Kurtosis:                       2.995   Cond. No.                     1.01e+03\n",
              "==============================================================================\n",
              "\n",
              "Warnings:\n",
              "[1] Standard Errors assume that the covariance matrix of the errors is correctly specified.\n",
              "[2] The condition number is large, 1.01e+03. This might indicate that there are\n",
              "strong multicollinearity or other numerical problems.\n",
              "\"\"\""
            ]
          },
          "metadata": {},
          "execution_count": 15
        }
      ]
    },
    {
      "cell_type": "code",
      "metadata": {
        "colab": {
          "base_uri": "https://localhost:8080/"
        },
        "id": "kQkcJW9wAW9e",
        "outputId": "9e5e4417-b4a9-4673-edd1-dd22cc499fea"
      },
      "source": [
        "from sklearn.metrics import mean_absolute_error,mean_squared_error,explained_variance_score,r2_score\n",
        "print(f\"Mean absolute error (MAE) is: {mean_absolute_error(y_test,y_pred).round(3)}\\n\\\n",
        "Mean squared error (MSE) is: {mean_squared_error(y_test,y_pred).round(3)}\\n\\\n",
        "Root Mean Squared error (RMSE) is: {np.sqrt(mean_squared_error(y_test,y_pred)).round(3)}\\n\\\n",
        "Explained Variance Score is: {explained_variance_score(y_test,y_pred).round(3)}\\n\\\n",
        "R-squared for transformed target variable is: {r2_score(y_test,y_pred).round(3)}\")\n",
        "\n",
        "\n",
        "r_square = lin_reg.score(x_test,y_test)\n",
        "print('R square obtain from scikit learn library is :',r_square)"
      ],
      "execution_count": null,
      "outputs": [
        {
          "output_type": "stream",
          "name": "stdout",
          "text": [
            "Mean absolute error (MAE) is: 0.0\n",
            "Mean squared error (MSE) is: 0.0\n",
            "Root Mean Squared error (RMSE) is: 0.0\n",
            "Explained Variance Score is: 1.0\n",
            "R-squared for transformed target variable is: 1.0\n",
            "R square obtain from scikit learn library is : 1.0\n"
          ]
        }
      ]
    },
    {
      "cell_type": "code",
      "metadata": {
        "colab": {
          "base_uri": "https://localhost:8080/",
          "height": 386
        },
        "id": "f61urCTVAZ6t",
        "outputId": "7e7bdd4e-4582-4753-9c91-76fbb04001fd"
      },
      "source": [
        "import seaborn as sns\n",
        "ax=sns.scatterplot(y_test,y_pred,color='r')\n",
        "ax.set_title('Check for Linearity:\\n Actual Vs Predicted value')"
      ],
      "execution_count": null,
      "outputs": [
        {
          "output_type": "stream",
          "name": "stderr",
          "text": [
            "/usr/local/lib/python3.7/dist-packages/seaborn/_decorators.py:43: FutureWarning: Pass the following variables as keyword args: x, y. From version 0.12, the only valid positional argument will be `data`, and passing other arguments without an explicit keyword will result in an error or misinterpretation.\n",
            "  FutureWarning\n"
          ]
        },
        {
          "output_type": "execute_result",
          "data": {
            "text/plain": [
              "Text(0.5, 1.0, 'Check for Linearity:\\n Actual Vs Predicted value')"
            ]
          },
          "metadata": {},
          "execution_count": 19
        },
        {
          "output_type": "display_data",
          "data": {
            "image/png": "[encoded data removed]",
            "text/plain": [
              "<Figure size 432x288 with 1 Axes>"
            ]
          },
          "metadata": {
            "needs_background": "light"
          }
        }
      ]
    },
    {
      "cell_type": "code",
      "metadata": {
        "colab": {
          "base_uri": "https://localhost:8080/",
          "height": 367
        },
        "id": "ZVluLKvGDyh2",
        "outputId": "bcc89e7d-365d-4c91-866e-44749c29347a"
      },
      "source": [
        "ax=sns.distplot((y_test - y_pred),color='b')\n",
        "ax.axvline((y_test - y_pred).mean(),color='k',linestyle='--')\n",
        "ax.set_title('Check for Residual normality & mean: \\n Residual eror');"
      ],
      "execution_count": null,
      "outputs": [
        {
          "output_type": "stream",
          "name": "stderr",
          "text": [
            "/usr/local/lib/python3.7/dist-packages/seaborn/distributions.py:2619: FutureWarning: `distplot` is a deprecated function and will be removed in a future version. Please adapt your code to use either `displot` (a figure-level function with similar flexibility) or `histplot` (an axes-level function for histograms).\n",
            "  warnings.warn(msg, FutureWarning)\n"
          ]
        },
        {
          "output_type": "display_data",
          "data": {
            "image/png": "[encoded data removed]",
            "text/plain": [
              "<Figure size 432x288 with 1 Axes>"
            ]
          },
          "metadata": {
            "needs_background": "light"
          }
        }
      ]
    },
    {
      "cell_type": "code",
      "metadata": {
        "colab": {
          "base_uri": "https://localhost:8080/",
          "height": 437
        },
        "id": "iMdwaqZOD1WN",
        "outputId": "40a87452-e677-4066-de13-fce74cb9e5d1"
      },
      "source": [
        "import scipy as sp\n",
        "import matplotlib.pyplot as plt\n",
        "f,ax = plt.subplots(1,2,figsize=(14,6))\n",
        "_,(_,_,r)= sp.stats.probplot((y_test - y_pred),fit=True,plot=ax[0])\n",
        "ax[0].set_title('Check for Multivariate Normality: \\nQ-Q Plot')\n",
        "sns.scatterplot(y = (y_test - y_pred), x= y_pred, ax = ax[1]) \n",
        "ax[1].set_title('Check for Homoscedasticity: \\nResidual Vs Predicted')"
      ],
      "execution_count": null,
      "outputs": [
        {
          "output_type": "execute_result",
          "data": {
            "text/plain": [
              "Text(0.5, 1.0, 'Check for Homoscedasticity: \\nResidual Vs Predicted')"
            ]
          },
          "metadata": {},
          "execution_count": 48
        },
        {
          "output_type": "display_data",
          "data": {
            "image/png": "[encoded data removed]",
            "text/plain": [
              "<Figure size 1008x432 with 2 Axes>"
            ]
          },
          "metadata": {
            "needs_background": "light"
          }
        }
      ]
    },
    {
      "cell_type": "markdown",
      "metadata": {
        "id": "lMDjLZOFH8st"
      },
      "source": [
        "**VIF masih infinite**"
      ]
    },
    {
      "cell_type": "code",
      "metadata": {
        "colab": {
          "base_uri": "https://localhost:8080/"
        },
        "id": "HBtBMCBcD7h2",
        "outputId": "f99a3d71-4774-4565-c78f-e45fb21f8847"
      },
      "source": [
        "VIF = 1/(1- r_square)\n",
        "print(VIF)"
      ],
      "execution_count": null,
      "outputs": [
        {
          "output_type": "stream",
          "name": "stdout",
          "text": [
            "inf\n"
          ]
        },
        {
          "output_type": "stream",
          "name": "stderr",
          "text": [
            "/usr/local/lib/python3.7/dist-packages/ipykernel_launcher.py:1: RuntimeWarning: divide by zero encountered in double_scalars\n",
            "  \"\"\"Entry point for launching an IPython kernel.\n"
          ]
        }
      ]
    },
    {
      "cell_type": "code",
      "metadata": {
        "id": "08aRBY0xEHy3"
      },
      "source": [
        "# Import library for VIF\n",
        "from statsmodels.stats.outliers_influence import variance_inflation_factor\n",
        "\n",
        "def calc_vif(X):\n",
        "\n",
        "    # Calculating VIF\n",
        "    vif = pd.DataFrame()\n",
        "    vif[\"variables\"] = X.columns\n",
        "    vif[\"VIF\"] = [variance_inflation_factor(X.values, i) for i in range(X.shape[1])]\n",
        "\n",
        "    return(vif)"
      ],
      "execution_count": null,
      "outputs": []
    },
    {
      "cell_type": "code",
      "metadata": {
        "colab": {
          "base_uri": "https://localhost:8080/",
          "height": 388
        },
        "id": "HVGHiCGTE0pt",
        "outputId": "d016e594-b65e-440c-d732-a8f455679388"
      },
      "source": [
        "X = data.iloc[:,:-1]\n",
        "calc_vif(X)"
      ],
      "execution_count": null,
      "outputs": [
        {
          "output_type": "stream",
          "name": "stderr",
          "text": [
            "/usr/local/lib/python3.7/dist-packages/statsmodels/stats/outliers_influence.py:185: RuntimeWarning: divide by zero encountered in double_scalars\n",
            "  vif = 1. / (1. - r_squared_i)\n"
          ]
        },
        {
          "output_type": "execute_result",
          "data": {
            "text/html": [
              "<div>\n",
              "<style scoped>\n",
              "    .dataframe tbody tr th:only-of-type {\n",
              "        vertical-align: middle;\n",
              "    }\n",
              "\n",
              "    .dataframe tbody tr th {\n",
              "        vertical-align: top;\n",
              "    }\n",
              "\n",
              "    .dataframe thead th {\n",
              "        text-align: right;\n",
              "    }\n",
              "</style>\n",
              "<table border=\"1\" class=\"dataframe\">\n",
              "  <thead>\n",
              "    <tr style=\"text-align: right;\">\n",
              "      <th></th>\n",
              "      <th>variables</th>\n",
              "      <th>VIF</th>\n",
              "    </tr>\n",
              "  </thead>\n",
              "  <tbody>\n",
              "    <tr>\n",
              "      <th>0</th>\n",
              "      <td>gender</td>\n",
              "      <td>3.775524</td>\n",
              "    </tr>\n",
              "    <tr>\n",
              "      <th>1</th>\n",
              "      <td>race/ethnicity</td>\n",
              "      <td>4.670653</td>\n",
              "    </tr>\n",
              "    <tr>\n",
              "      <th>2</th>\n",
              "      <td>parental level of education</td>\n",
              "      <td>2.632495</td>\n",
              "    </tr>\n",
              "    <tr>\n",
              "      <th>3</th>\n",
              "      <td>lunch</td>\n",
              "      <td>3.346540</td>\n",
              "    </tr>\n",
              "    <tr>\n",
              "      <th>4</th>\n",
              "      <td>test preparation course</td>\n",
              "      <td>2.644000</td>\n",
              "    </tr>\n",
              "    <tr>\n",
              "      <th>5</th>\n",
              "      <td>math score</td>\n",
              "      <td>inf</td>\n",
              "    </tr>\n",
              "    <tr>\n",
              "      <th>6</th>\n",
              "      <td>reading score</td>\n",
              "      <td>inf</td>\n",
              "    </tr>\n",
              "    <tr>\n",
              "      <th>7</th>\n",
              "      <td>writing score</td>\n",
              "      <td>inf</td>\n",
              "    </tr>\n",
              "    <tr>\n",
              "      <th>8</th>\n",
              "      <td>total_score</td>\n",
              "      <td>inf</td>\n",
              "    </tr>\n",
              "  </tbody>\n",
              "</table>\n",
              "</div>"
            ],
            "text/plain": [
              "                     variables       VIF\n",
              "0                       gender  3.775524\n",
              "1               race/ethnicity  4.670653\n",
              "2  parental level of education  2.632495\n",
              "3                        lunch  3.346540\n",
              "4      test preparation course  2.644000\n",
              "5                   math score       inf\n",
              "6                reading score       inf\n",
              "7                writing score       inf\n",
              "8                  total_score       inf"
            ]
          },
          "metadata": {},
          "execution_count": 53
        }
      ]
    },
    {
      "cell_type": "markdown",
      "metadata": {
        "id": "eVS0mI78FsaX"
      },
      "source": [
        "# Kaggle"
      ]
    },
    {
      "cell_type": "code",
      "metadata": {
        "colab": {
          "base_uri": "https://localhost:8080/"
        },
        "id": "zGzHghXeF_69",
        "outputId": "be29d60b-eb9b-4076-d9a0-35e319216c99"
      },
      "source": [
        "pip install bayesian-optimization"
      ],
      "execution_count": null,
      "outputs": [
        {
          "output_type": "stream",
          "name": "stdout",
          "text": [
            "Collecting bayesian-optimization\n",
            "  Downloading bayesian-optimization-1.2.0.tar.gz (14 kB)\n",
            "Requirement already satisfied: numpy>=1.9.0 in /usr/local/lib/python3.7/dist-packages (from bayesian-optimization) (1.19.5)\n",
            "Requirement already satisfied: scipy>=0.14.0 in /usr/local/lib/python3.7/dist-packages (from bayesian-optimization) (1.4.1)\n",
            "Requirement already satisfied: scikit-learn>=0.18.0 in /usr/local/lib/python3.7/dist-packages (from bayesian-optimization) (1.0.1)\n",
            "Requirement already satisfied: threadpoolctl>=2.0.0 in /usr/local/lib/python3.7/dist-packages (from scikit-learn>=0.18.0->bayesian-optimization) (3.0.0)\n",
            "Requirement already satisfied: joblib>=0.11 in /usr/local/lib/python3.7/dist-packages (from scikit-learn>=0.18.0->bayesian-optimization) (1.1.0)\n",
            "Building wheels for collected packages: bayesian-optimization\n",
            "  Building wheel for bayesian-optimization (setup.py) ... \u001b[?25l\u001b[?25hdone\n",
            "  Created wheel for bayesian-optimization: filename=bayesian_optimization-1.2.0-py3-none-any.whl size=11685 sha256=eb593c7344feaa4d30f7c419f192ac22415160b0a6ac677555a03a57fa156db1\n",
            "  Stored in directory: /root/.cache/pip/wheels/fd/9b/71/f127d694e02eb40bcf18c7ae9613b88a6be4470f57a8528c5b\n",
            "Successfully built bayesian-optimization\n",
            "Installing collected packages: bayesian-optimization\n",
            "Successfully installed bayesian-optimization-1.2.0\n"
          ]
        }
      ]
    },
    {
      "cell_type": "code",
      "metadata": {
        "colab": {
          "base_uri": "https://localhost:8080/"
        },
        "id": "5zJSREP6GCA2",
        "outputId": "adb54948-b694-4be1-d65e-bbde70e4ff20"
      },
      "source": [
        "pip install shap"
      ],
      "execution_count": null,
      "outputs": [
        {
          "output_type": "stream",
          "name": "stdout",
          "text": [
            "Collecting shap\n",
            "  Downloading shap-0.40.0.tar.gz (371 kB)\n",
            "\u001b[?25l\r\u001b[K     |▉                               | 10 kB 22.4 MB/s eta 0:00:01\r\u001b[K     |█▊                              | 20 kB 25.3 MB/s eta 0:00:01\r\u001b[K     |██▋                             | 30 kB 16.4 MB/s eta 0:00:01\r\u001b[K     |███▌                            | 40 kB 14.4 MB/s eta 0:00:01\r\u001b[K     |████▍                           | 51 kB 6.5 MB/s eta 0:00:01\r\u001b[K     |█████▎                          | 61 kB 7.0 MB/s eta 0:00:01\r\u001b[K     |██████▏                         | 71 kB 7.4 MB/s eta 0:00:01\r\u001b[K     |███████                         | 81 kB 8.3 MB/s eta 0:00:01\r\u001b[K     |████████                        | 92 kB 8.6 MB/s eta 0:00:01\r\u001b[K     |████████▉                       | 102 kB 6.5 MB/s eta 0:00:01\r\u001b[K     |█████████▊                      | 112 kB 6.5 MB/s eta 0:00:01\r\u001b[K     |██████████▋                     | 122 kB 6.5 MB/s eta 0:00:01\r\u001b[K     |███████████▌                    | 133 kB 6.5 MB/s eta 0:00:01\r\u001b[K     |████████████▍                   | 143 kB 6.5 MB/s eta 0:00:01\r\u001b[K     |█████████████▎                  | 153 kB 6.5 MB/s eta 0:00:01\r\u001b[K     |██████████████                  | 163 kB 6.5 MB/s eta 0:00:01\r\u001b[K     |███████████████                 | 174 kB 6.5 MB/s eta 0:00:01\r\u001b[K     |███████████████▉                | 184 kB 6.5 MB/s eta 0:00:01\r\u001b[K     |████████████████▊               | 194 kB 6.5 MB/s eta 0:00:01\r\u001b[K     |█████████████████▋              | 204 kB 6.5 MB/s eta 0:00:01\r\u001b[K     |██████████████████▌             | 215 kB 6.5 MB/s eta 0:00:01\r\u001b[K     |███████████████████▍            | 225 kB 6.5 MB/s eta 0:00:01\r\u001b[K     |████████████████████▎           | 235 kB 6.5 MB/s eta 0:00:01\r\u001b[K     |█████████████████████▏          | 245 kB 6.5 MB/s eta 0:00:01\r\u001b[K     |██████████████████████          | 256 kB 6.5 MB/s eta 0:00:01\r\u001b[K     |███████████████████████         | 266 kB 6.5 MB/s eta 0:00:01\r\u001b[K     |███████████████████████▉        | 276 kB 6.5 MB/s eta 0:00:01\r\u001b[K     |████████████████████████▊       | 286 kB 6.5 MB/s eta 0:00:01\r\u001b[K     |█████████████████████████▋      | 296 kB 6.5 MB/s eta 0:00:01\r\u001b[K     |██████████████████████████▌     | 307 kB 6.5 MB/s eta 0:00:01\r\u001b[K     |███████████████████████████▎    | 317 kB 6.5 MB/s eta 0:00:01\r\u001b[K     |████████████████████████████▏   | 327 kB 6.5 MB/s eta 0:00:01\r\u001b[K     |█████████████████████████████   | 337 kB 6.5 MB/s eta 0:00:01\r\u001b[K     |██████████████████████████████  | 348 kB 6.5 MB/s eta 0:00:01\r\u001b[K     |██████████████████████████████▉ | 358 kB 6.5 MB/s eta 0:00:01\r\u001b[K     |███████████████████████████████▊| 368 kB 6.5 MB/s eta 0:00:01\r\u001b[K     |████████████████████████████████| 371 kB 6.5 MB/s \n",
            "\u001b[?25h  Installing build dependencies ... \u001b[?25l\u001b[?25hdone\n",
            "  Getting requirements to build wheel ... \u001b[?25l\u001b[?25hdone\n",
            "    Preparing wheel metadata ... \u001b[?25l\u001b[?25hdone\n",
            "Requirement already satisfied: scipy in /usr/local/lib/python3.7/dist-packages (from shap) (1.4.1)\n",
            "Requirement already satisfied: packaging>20.9 in /usr/local/lib/python3.7/dist-packages (from shap) (21.3)\n",
            "Requirement already satisfied: scikit-learn in /usr/local/lib/python3.7/dist-packages (from shap) (1.0.1)\n",
            "Requirement already satisfied: pandas in /usr/local/lib/python3.7/dist-packages (from shap) (1.1.5)\n",
            "Collecting slicer==0.0.7\n",
            "  Downloading slicer-0.0.7-py3-none-any.whl (14 kB)\n",
            "Requirement already satisfied: numba in /usr/local/lib/python3.7/dist-packages (from shap) (0.51.2)\n",
            "Requirement already satisfied: numpy in /usr/local/lib/python3.7/dist-packages (from shap) (1.19.5)\n",
            "Requirement already satisfied: cloudpickle in /usr/local/lib/python3.7/dist-packages (from shap) (1.3.0)\n",
            "Requirement already satisfied: tqdm>4.25.0 in /usr/local/lib/python3.7/dist-packages (from shap) (4.62.3)\n",
            "Requirement already satisfied: pyparsing!=3.0.5,>=2.0.2 in /usr/local/lib/python3.7/dist-packages (from packaging>20.9->shap) (3.0.6)\n",
            "Requirement already satisfied: setuptools in /usr/local/lib/python3.7/dist-packages (from numba->shap) (57.4.0)\n",
            "Requirement already satisfied: llvmlite<0.35,>=0.34.0.dev0 in /usr/local/lib/python3.7/dist-packages (from numba->shap) (0.34.0)\n",
            "Requirement already satisfied: pytz>=2017.2 in /usr/local/lib/python3.7/dist-packages (from pandas->shap) (2018.9)\n",
            "Requirement already satisfied: python-dateutil>=2.7.3 in /usr/local/lib/python3.7/dist-packages (from pandas->shap) (2.8.2)\n",
            "Requirement already satisfied: six>=1.5 in /usr/local/lib/python3.7/dist-packages (from python-dateutil>=2.7.3->pandas->shap) (1.15.0)\n",
            "Requirement already satisfied: joblib>=0.11 in /usr/local/lib/python3.7/dist-packages (from scikit-learn->shap) (1.1.0)\n",
            "Requirement already satisfied: threadpoolctl>=2.0.0 in /usr/local/lib/python3.7/dist-packages (from scikit-learn->shap) (3.0.0)\n",
            "Building wheels for collected packages: shap\n",
            "  Building wheel for shap (PEP 517) ... \u001b[?25l\u001b[?25hdone\n",
            "  Created wheel for shap: filename=shap-0.40.0-cp37-cp37m-linux_x86_64.whl size=509235 sha256=de42396cd45a18b678049831f94c5969e1883a3af2b8f09b8127c48b791effd0\n",
            "  Stored in directory: /root/.cache/pip/wheels/ec/35/84/e304841ac4b910bc95fe9a6e5302eb2507b4333728851dcbfb\n",
            "Successfully built shap\n",
            "Installing collected packages: slicer, shap\n",
            "Successfully installed shap-0.40.0 slicer-0.0.7\n"
          ]
        }
      ]
    },
    {
      "cell_type": "code",
      "metadata": {
        "id": "-ZRfARCyF7hu"
      },
      "source": [
        "# ML Models\n",
        "import lightgbm as lgb\n",
        "from lightgbm import LGBMRegressor \n",
        "import xgboost as xg \n",
        "from sklearn.ensemble import RandomForestRegressor\n",
        "from sklearn import svm\n",
        "from sklearn.linear_model import LinearRegression\n",
        "# Model Tuning \n",
        "from bayes_opt import BayesianOptimization\n",
        "\n",
        "# Feature Importance \n",
        "import shap\n",
        "\n",
        "# Ignore Warnings \n",
        "import warnings\n",
        "warnings.filterwarnings('ignore')"
      ],
      "execution_count": null,
      "outputs": []
    },
    {
      "cell_type": "code",
      "metadata": {
        "id": "yvXeHvOoG5j-"
      },
      "source": [
        "target = data['average']\n",
        "train_X, valid_X, train_y, valid_y = train_test_split(data, target, test_size=0.2, shuffle = True, random_state=1)"
      ],
      "execution_count": null,
      "outputs": []
    },
    {
      "cell_type": "code",
      "metadata": {
        "id": "5SryZrmGFlI9"
      },
      "source": [
        "def evaluateRegressor(true,predicted,message = \"Test set\"):\n",
        "    MSE = mean_squared_error(true,predicted,squared = True)\n",
        "    MAE = mean_absolute_error(true,predicted)\n",
        "    RMSE = mean_squared_error(true,predicted,squared = False)\n",
        "    R_squared = r2_score(true,predicted)\n",
        "    print(message)\n",
        "    print(\"MSE:\", MSE)\n",
        "    print(\"MAE:\", MAE)\n",
        "    print(\"RMSE:\", RMSE)\n",
        "    print(\"R-squared:\", R_squared)"
      ],
      "execution_count": null,
      "outputs": []
    },
    {
      "cell_type": "code",
      "metadata": {
        "id": "VHdFTaeeFreW"
      },
      "source": [
        "def PlotPrediction(true,predicted, title = \"Dataset: \"):\n",
        "    fig = plt.figure(figsize=(20,20))\n",
        "    ax1 = fig.add_subplot(111)\n",
        "    ax1.set_title(title + 'True vs Predicted')\n",
        "    ax1.scatter(list(range(0,len(true))),true, s=10, c='r', marker=\"o\", label='True')\n",
        "    ax1.scatter(list(range(0,len(predicted))), predicted, s=10, c='b', marker=\"o\", label='Predicted')\n",
        "    plt.legend(loc='upper right');\n",
        "    plt.show()"
      ],
      "execution_count": null,
      "outputs": []
    },
    {
      "cell_type": "code",
      "metadata": {
        "id": "fBguc9cBFyk-"
      },
      "source": [
        "RFReg = RandomForestRegressor(random_state = 0).fit(train_X, train_y)\n",
        "SVM = svm.SVR().fit(train_X, train_y) \n",
        "XGReg = xg.XGBRegressor(objective ='reg:squarederror', seed = 1,verbosity=0).fit(train_X,train_y) \n",
        "LGBMReg = lgb.LGBMRegressor(random_state=0).fit(train_X,train_y)\n",
        "LinearReg = LinearRegression(normalize = True).fit(train_X,train_y)"
      ],
      "execution_count": null,
      "outputs": []
    },
    {
      "cell_type": "code",
      "metadata": {
        "colab": {
          "base_uri": "https://localhost:8080/"
        },
        "id": "QL-kg6ZKGW4Q",
        "outputId": "8b363ac0-fd77-4818-cc8a-df25e90a98d6"
      },
      "source": [
        "##% Model Metrics\n",
        "print(\"Random Forest Regressor\") \n",
        "predicted_train_y = RFReg.predict(train_X)\n",
        "evaluateRegressor(train_y,predicted_train_y,\"    Training Set\")\n",
        "predicted_valid_y = RFReg.predict(valid_X)\n",
        "evaluateRegressor(valid_y,predicted_valid_y,\"    Test Set\")\n",
        "print(\"\\n\")\n",
        "    \n",
        "print(\"Support Vector Machine\") \n",
        "predicted_train_y = SVM.predict(train_X)\n",
        "evaluateRegressor(train_y,predicted_train_y,\"    Training Set\")\n",
        "predicted_valid_y = SVM.predict(valid_X)\n",
        "evaluateRegressor(valid_y,predicted_valid_y,\"    Test Set\")\n",
        "print(\"\\n\")\n",
        "\n",
        "\n",
        "print(\"XGBoost Regressor\") \n",
        "predicted_train_y = XGReg.predict(train_X)\n",
        "evaluateRegressor(train_y,predicted_train_y,\"    Training Set\")\n",
        "predicted_valid_y = XGReg.predict(valid_X)\n",
        "evaluateRegressor(valid_y,predicted_valid_y,\"    Test Set\")\n",
        "print(\"\\n\")\n",
        "\n",
        "print(\"LightGBM Regressor\") \n",
        "predicted_train_y = LGBMReg.predict(train_X)\n",
        "evaluateRegressor(train_y,predicted_train_y,\"    Training Set\")\n",
        "predicted_valid_y = LGBMReg.predict(valid_X)\n",
        "evaluateRegressor(valid_y,predicted_valid_y,\"    Test Set\")\n",
        "print(\"\\n\")\n",
        "\n",
        "print(\"Linear Regression\") \n",
        "predicted_train_y = LinearReg.predict(train_X)\n",
        "evaluateRegressor(train_y,predicted_train_y,\"    Training Set\")\n",
        "predicted_valid_y = LinearReg.predict(valid_X)\n",
        "evaluateRegressor(valid_y,predicted_valid_y,\"    Test Set\")\n",
        "print(\"\\n\")"
      ],
      "execution_count": null,
      "outputs": [
        {
          "output_type": "stream",
          "name": "stdout",
          "text": [
            "Random Forest Regressor\n",
            "    Training Set\n",
            "MSE: 0.012261125000000005\n",
            "MAE: 0.015912500000000142\n",
            "RMSE: 0.1107299643276381\n",
            "R-squared: 0.9999390084642552\n",
            "    Test Set\n",
            "MSE: 0.7648695000000001\n",
            "MAE: 0.08065000000000054\n",
            "RMSE: 0.8745681791604357\n",
            "R-squared: 0.9963775051576078\n",
            "\n",
            "\n",
            "Support Vector Machine\n",
            "    Training Set\n",
            "MSE: 3.195193770998768\n",
            "MAE: 0.7535984745924447\n",
            "RMSE: 1.7875104953534589\n",
            "R-squared: 0.9841058813856493\n",
            "    Test Set\n",
            "MSE: 6.826433857777715\n",
            "MAE: 0.8243144953938016\n",
            "RMSE: 2.6127445067931374\n",
            "R-squared: 0.9676693587053329\n",
            "\n",
            "\n",
            "XGBoost Regressor\n",
            "    Training Set\n",
            "MSE: 0.003109809801026131\n",
            "MAE: 0.03378281116485596\n",
            "RMSE: 0.05576566865936542\n",
            "R-squared: 0.9999845306139821\n",
            "    Test Set\n",
            "MSE: 0.48136633742826235\n",
            "MAE: 0.11084100723266602\n",
            "RMSE: 0.6938056914066519\n",
            "R-squared: 0.9977202031527795\n",
            "\n",
            "\n",
            "LightGBM Regressor\n",
            "    Training Set\n",
            "MSE: 0.41748612731742374\n",
            "MAE: 0.1789046470937327\n",
            "RMSE: 0.6461316640727521\n",
            "R-squared: 0.997923263969886\n",
            "    Test Set\n",
            "MSE: 2.8402434872143414\n",
            "MAE: 0.3234822179664606\n",
            "RMSE: 1.6853021946269284\n",
            "R-squared: 0.986548336175554\n",
            "\n",
            "\n",
            "Linear Regression\n",
            "    Training Set\n",
            "MSE: 3.288761113866398e-28\n",
            "MAE: 1.4037659923360479e-14\n",
            "RMSE: 1.8134941725482322e-14\n",
            "R-squared: 1.0\n",
            "    Test Set\n",
            "MSE: 3.094385786819941e-28\n",
            "MAE: 1.411315508903499e-14\n",
            "RMSE: 1.7590866342565227e-14\n",
            "R-squared: 1.0\n",
            "\n",
            "\n"
          ]
        }
      ]
    },
    {
      "cell_type": "markdown",
      "metadata": {
        "id": "osR4J3xqiYzL"
      },
      "source": [
        "# Linear Regression"
      ]
    },
    {
      "cell_type": "code",
      "metadata": {
        "colab": {
          "base_uri": "https://localhost:8080/"
        },
        "id": "DWPiR7Ipid5R",
        "outputId": "6d0611d3-c7e3-4c27-fd8b-da658a9e968e"
      },
      "source": [
        "import statsmodels.api as sm\n",
        "from sklearn.linear_model import LinearRegression\n",
        "\n",
        "# Preparing Dataset for Linear Regression\n",
        "eduDataLR = pd.get_dummies(data)\n",
        "\n",
        "# Explanatory Variables\n",
        "eduDataLR_X = eduDataLR.drop(columns=['math score','reading score', 'writing score'])\n",
        "eduDataLR_X = sm.add_constant(eduDataLR_X)"
      ],
      "execution_count": 4,
      "outputs": [
        {
          "output_type": "stream",
          "name": "stderr",
          "text": [
            "/usr/local/lib/python3.7/dist-packages/statsmodels/tools/_testing.py:19: FutureWarning: pandas.util.testing is deprecated. Use the functions in the public API at pandas.testing instead.\n",
            "  import pandas.util.testing as tm\n"
          ]
        }
      ]
    },
    {
      "cell_type": "code",
      "metadata": {
        "colab": {
          "base_uri": "https://localhost:8080/",
          "height": 795
        },
        "id": "IQDPkCj7jNRC",
        "outputId": "c4f69a77-b679-4e19-8daf-1af5f6e30d4e"
      },
      "source": [
        "# Math Score Model\n",
        "modelMathScore = sm.OLS(eduDataLR['math score'],eduDataLR_X).fit()\n",
        "modelMathScore.summary()"
      ],
      "execution_count": 5,
      "outputs": [
        {
          "output_type": "execute_result",
          "data": {
            "text/html": [
              "<table class=\"simpletable\">\n",
              "<caption>OLS Regression Results</caption>\n",
              "<tr>\n",
              "  <th>Dep. Variable:</th>       <td>math score</td>    <th>  R-squared:         </th> <td>   0.255</td>\n",
              "</tr>\n",
              "<tr>\n",
              "  <th>Model:</th>                   <td>OLS</td>       <th>  Adj. R-squared:    </th> <td>   0.246</td>\n",
              "</tr>\n",
              "<tr>\n",
              "  <th>Method:</th>             <td>Least Squares</td>  <th>  F-statistic:       </th> <td>   28.12</td>\n",
              "</tr>\n",
              "<tr>\n",
              "  <th>Date:</th>             <td>Sat, 27 Nov 2021</td> <th>  Prob (F-statistic):</th> <td>2.62e-55</td>\n",
              "</tr>\n",
              "<tr>\n",
              "  <th>Time:</th>                 <td>13:19:35</td>     <th>  Log-Likelihood:    </th> <td> -3990.3</td>\n",
              "</tr>\n",
              "<tr>\n",
              "  <th>No. Observations:</th>      <td>  1000</td>      <th>  AIC:               </th> <td>   8007.</td>\n",
              "</tr>\n",
              "<tr>\n",
              "  <th>Df Residuals:</th>          <td>   987</td>      <th>  BIC:               </th> <td>   8070.</td>\n",
              "</tr>\n",
              "<tr>\n",
              "  <th>Df Model:</th>              <td>    12</td>      <th>                     </th>     <td> </td>   \n",
              "</tr>\n",
              "<tr>\n",
              "  <th>Covariance Type:</th>      <td>nonrobust</td>    <th>                     </th>     <td> </td>   \n",
              "</tr>\n",
              "</table>\n",
              "<table class=\"simpletable\">\n",
              "<tr>\n",
              "                         <td></td>                           <th>coef</th>     <th>std err</th>      <th>t</th>      <th>P>|t|</th>  <th>[0.025</th>    <th>0.975]</th>  \n",
              "</tr>\n",
              "<tr>\n",
              "  <th>const</th>                                          <td>   23.0302</td> <td>    0.187</td> <td>  123.319</td> <td> 0.000</td> <td>   22.664</td> <td>   23.397</td>\n",
              "</tr>\n",
              "<tr>\n",
              "  <th>gender_female</th>                                  <td>    9.0175</td> <td>    0.428</td> <td>   21.083</td> <td> 0.000</td> <td>    8.178</td> <td>    9.857</td>\n",
              "</tr>\n",
              "<tr>\n",
              "  <th>gender_male</th>                                    <td>   14.0128</td> <td>    0.432</td> <td>   32.452</td> <td> 0.000</td> <td>   13.165</td> <td>   14.860</td>\n",
              "</tr>\n",
              "<tr>\n",
              "  <th>race/ethnicity_group A</th>                         <td>    0.6087</td> <td>    1.195</td> <td>    0.509</td> <td> 0.611</td> <td>   -1.736</td> <td>    2.953</td>\n",
              "</tr>\n",
              "<tr>\n",
              "  <th>race/ethnicity_group B</th>                         <td>    2.6495</td> <td>    0.875</td> <td>    3.028</td> <td> 0.003</td> <td>    0.932</td> <td>    4.367</td>\n",
              "</tr>\n",
              "<tr>\n",
              "  <th>race/ethnicity_group C</th>                         <td>    3.0787</td> <td>    0.728</td> <td>    4.229</td> <td> 0.000</td> <td>    1.650</td> <td>    4.507</td>\n",
              "</tr>\n",
              "<tr>\n",
              "  <th>race/ethnicity_group D</th>                         <td>    5.9498</td> <td>    0.779</td> <td>    7.639</td> <td> 0.000</td> <td>    4.421</td> <td>    7.478</td>\n",
              "</tr>\n",
              "<tr>\n",
              "  <th>race/ethnicity_group E</th>                         <td>   10.7435</td> <td>    0.988</td> <td>   10.869</td> <td> 0.000</td> <td>    8.804</td> <td>   12.683</td>\n",
              "</tr>\n",
              "<tr>\n",
              "  <th>parental level of education_associate's degree</th> <td>    4.6350</td> <td>    0.857</td> <td>    5.409</td> <td> 0.000</td> <td>    2.953</td> <td>    6.317</td>\n",
              "</tr>\n",
              "<tr>\n",
              "  <th>parental level of education_bachelor's degree</th>  <td>    6.6011</td> <td>    1.097</td> <td>    6.019</td> <td> 0.000</td> <td>    4.449</td> <td>    8.753</td>\n",
              "</tr>\n",
              "<tr>\n",
              "  <th>parental level of education_high school</th>        <td>   -0.1678</td> <td>    0.902</td> <td>   -0.186</td> <td> 0.852</td> <td>   -1.938</td> <td>    1.602</td>\n",
              "</tr>\n",
              "<tr>\n",
              "  <th>parental level of education_master's degree</th>    <td>    7.5234</td> <td>    1.495</td> <td>    5.033</td> <td> 0.000</td> <td>    4.590</td> <td>   10.457</td>\n",
              "</tr>\n",
              "<tr>\n",
              "  <th>parental level of education_some college</th>       <td>    4.0523</td> <td>    0.849</td> <td>    4.772</td> <td> 0.000</td> <td>    2.386</td> <td>    5.719</td>\n",
              "</tr>\n",
              "<tr>\n",
              "  <th>parental level of education_some high school</th>   <td>    0.3863</td> <td>    0.932</td> <td>    0.414</td> <td> 0.679</td> <td>   -1.443</td> <td>    2.216</td>\n",
              "</tr>\n",
              "<tr>\n",
              "  <th>lunch_free/reduced</th>                             <td>    6.0767</td> <td>    0.466</td> <td>   13.049</td> <td> 0.000</td> <td>    5.163</td> <td>    6.991</td>\n",
              "</tr>\n",
              "<tr>\n",
              "  <th>lunch_standard</th>                                 <td>   16.9535</td> <td>    0.426</td> <td>   39.805</td> <td> 0.000</td> <td>   16.118</td> <td>   17.789</td>\n",
              "</tr>\n",
              "<tr>\n",
              "  <th>test preparation course_completed</th>              <td>   14.2624</td> <td>    0.467</td> <td>   30.533</td> <td> 0.000</td> <td>   13.346</td> <td>   15.179</td>\n",
              "</tr>\n",
              "<tr>\n",
              "  <th>test preparation course_none</th>                   <td>    8.7678</td> <td>    0.427</td> <td>   20.518</td> <td> 0.000</td> <td>    7.929</td> <td>    9.606</td>\n",
              "</tr>\n",
              "</table>\n",
              "<table class=\"simpletable\">\n",
              "<tr>\n",
              "  <th>Omnibus:</th>       <td> 9.026</td> <th>  Durbin-Watson:     </th> <td>   2.043</td>\n",
              "</tr>\n",
              "<tr>\n",
              "  <th>Prob(Omnibus):</th> <td> 0.011</td> <th>  Jarque-Bera (JB):  </th> <td>   9.201</td>\n",
              "</tr>\n",
              "<tr>\n",
              "  <th>Skew:</th>          <td>-0.232</td> <th>  Prob(JB):          </th> <td>  0.0100</td>\n",
              "</tr>\n",
              "<tr>\n",
              "  <th>Kurtosis:</th>      <td> 2.928</td> <th>  Cond. No.          </th> <td>2.15e+16</td>\n",
              "</tr>\n",
              "</table><br/><br/>Warnings:<br/>[1] Standard Errors assume that the covariance matrix of the errors is correctly specified.<br/>[2] The smallest eigenvalue is 6.55e-30. This might indicate that there are<br/>strong multicollinearity problems or that the design matrix is singular."
            ],
            "text/plain": [
              "<class 'statsmodels.iolib.summary.Summary'>\n",
              "\"\"\"\n",
              "                            OLS Regression Results                            \n",
              "==============================================================================\n",
              "Dep. Variable:             math score   R-squared:                       0.255\n",
              "Model:                            OLS   Adj. R-squared:                  0.246\n",
              "Method:                 Least Squares   F-statistic:                     28.12\n",
              "Date:                Sat, 27 Nov 2021   Prob (F-statistic):           2.62e-55\n",
              "Time:                        13:19:35   Log-Likelihood:                -3990.3\n",
              "No. Observations:                1000   AIC:                             8007.\n",
              "Df Residuals:                     987   BIC:                             8070.\n",
              "Df Model:                          12                                         \n",
              "Covariance Type:            nonrobust                                         \n",
              "==================================================================================================================\n",
              "                                                     coef    std err          t      P>|t|      [0.025      0.975]\n",
              "------------------------------------------------------------------------------------------------------------------\n",
              "const                                             23.0302      0.187    123.319      0.000      22.664      23.397\n",
              "gender_female                                      9.0175      0.428     21.083      0.000       8.178       9.857\n",
              "gender_male                                       14.0128      0.432     32.452      0.000      13.165      14.860\n",
              "race/ethnicity_group A                             0.6087      1.195      0.509      0.611      -1.736       2.953\n",
              "race/ethnicity_group B                             2.6495      0.875      3.028      0.003       0.932       4.367\n",
              "race/ethnicity_group C                             3.0787      0.728      4.229      0.000       1.650       4.507\n",
              "race/ethnicity_group D                             5.9498      0.779      7.639      0.000       4.421       7.478\n",
              "race/ethnicity_group E                            10.7435      0.988     10.869      0.000       8.804      12.683\n",
              "parental level of education_associate's degree     4.6350      0.857      5.409      0.000       2.953       6.317\n",
              "parental level of education_bachelor's degree      6.6011      1.097      6.019      0.000       4.449       8.753\n",
              "parental level of education_high school           -0.1678      0.902     -0.186      0.852      -1.938       1.602\n",
              "parental level of education_master's degree        7.5234      1.495      5.033      0.000       4.590      10.457\n",
              "parental level of education_some college           4.0523      0.849      4.772      0.000       2.386       5.719\n",
              "parental level of education_some high school       0.3863      0.932      0.414      0.679      -1.443       2.216\n",
              "lunch_free/reduced                                 6.0767      0.466     13.049      0.000       5.163       6.991\n",
              "lunch_standard                                    16.9535      0.426     39.805      0.000      16.118      17.789\n",
              "test preparation course_completed                 14.2624      0.467     30.533      0.000      13.346      15.179\n",
              "test preparation course_none                       8.7678      0.427     20.518      0.000       7.929       9.606\n",
              "==============================================================================\n",
              "Omnibus:                        9.026   Durbin-Watson:                   2.043\n",
              "Prob(Omnibus):                  0.011   Jarque-Bera (JB):                9.201\n",
              "Skew:                          -0.232   Prob(JB):                       0.0100\n",
              "Kurtosis:                       2.928   Cond. No.                     2.15e+16\n",
              "==============================================================================\n",
              "\n",
              "Warnings:\n",
              "[1] Standard Errors assume that the covariance matrix of the errors is correctly specified.\n",
              "[2] The smallest eigenvalue is 6.55e-30. This might indicate that there are\n",
              "strong multicollinearity problems or that the design matrix is singular.\n",
              "\"\"\""
            ]
          },
          "metadata": {},
          "execution_count": 5
        }
      ]
    },
    {
      "cell_type": "code",
      "metadata": {
        "colab": {
          "base_uri": "https://localhost:8080/",
          "height": 795
        },
        "id": "T8M1oSLIjWK5",
        "outputId": "7e6681cc-d979-4076-ba23-6258af6f6f32"
      },
      "source": [
        "# Reading Model\n",
        "modelReadingScore = sm.OLS(eduDataLR['reading score'],eduDataLR_X).fit()\n",
        "modelReadingScore.summary()"
      ],
      "execution_count": 6,
      "outputs": [
        {
          "output_type": "execute_result",
          "data": {
            "text/html": [
              "<table class=\"simpletable\">\n",
              "<caption>OLS Regression Results</caption>\n",
              "<tr>\n",
              "  <th>Dep. Variable:</th>      <td>reading score</td>  <th>  R-squared:         </th> <td>   0.227</td>\n",
              "</tr>\n",
              "<tr>\n",
              "  <th>Model:</th>                   <td>OLS</td>       <th>  Adj. R-squared:    </th> <td>   0.218</td>\n",
              "</tr>\n",
              "<tr>\n",
              "  <th>Method:</th>             <td>Least Squares</td>  <th>  F-statistic:       </th> <td>   24.19</td>\n",
              "</tr>\n",
              "<tr>\n",
              "  <th>Date:</th>             <td>Sat, 27 Nov 2021</td> <th>  Prob (F-statistic):</th> <td>8.62e-48</td>\n",
              "</tr>\n",
              "<tr>\n",
              "  <th>Time:</th>                 <td>13:19:57</td>     <th>  Log-Likelihood:    </th> <td> -3970.5</td>\n",
              "</tr>\n",
              "<tr>\n",
              "  <th>No. Observations:</th>      <td>  1000</td>      <th>  AIC:               </th> <td>   7967.</td>\n",
              "</tr>\n",
              "<tr>\n",
              "  <th>Df Residuals:</th>          <td>   987</td>      <th>  BIC:               </th> <td>   8031.</td>\n",
              "</tr>\n",
              "<tr>\n",
              "  <th>Df Model:</th>              <td>    12</td>      <th>                     </th>     <td> </td>   \n",
              "</tr>\n",
              "<tr>\n",
              "  <th>Covariance Type:</th>      <td>nonrobust</td>    <th>                     </th>     <td> </td>   \n",
              "</tr>\n",
              "</table>\n",
              "<table class=\"simpletable\">\n",
              "<tr>\n",
              "                         <td></td>                           <th>coef</th>     <th>std err</th>      <th>t</th>      <th>P>|t|</th>  <th>[0.025</th>    <th>0.975]</th>  \n",
              "</tr>\n",
              "<tr>\n",
              "  <th>const</th>                                          <td>   24.3079</td> <td>    0.183</td> <td>  132.753</td> <td> 0.000</td> <td>   23.949</td> <td>   24.667</td>\n",
              "</tr>\n",
              "<tr>\n",
              "  <th>gender_female</th>                                  <td>   15.6897</td> <td>    0.419</td> <td>   37.413</td> <td> 0.000</td> <td>   14.867</td> <td>   16.513</td>\n",
              "</tr>\n",
              "<tr>\n",
              "  <th>gender_male</th>                                    <td>    8.6183</td> <td>    0.423</td> <td>   20.357</td> <td> 0.000</td> <td>    7.787</td> <td>    9.449</td>\n",
              "</tr>\n",
              "<tr>\n",
              "  <th>race/ethnicity_group A</th>                         <td>    2.2178</td> <td>    1.171</td> <td>    1.893</td> <td> 0.059</td> <td>   -0.081</td> <td>    4.517</td>\n",
              "</tr>\n",
              "<tr>\n",
              "  <th>race/ethnicity_group B</th>                         <td>    3.5438</td> <td>    0.858</td> <td>    4.130</td> <td> 0.000</td> <td>    1.860</td> <td>    5.228</td>\n",
              "</tr>\n",
              "<tr>\n",
              "  <th>race/ethnicity_group C</th>                         <td>    4.4917</td> <td>    0.714</td> <td>    6.293</td> <td> 0.000</td> <td>    3.091</td> <td>    5.892</td>\n",
              "</tr>\n",
              "<tr>\n",
              "  <th>race/ethnicity_group D</th>                         <td>    6.3234</td> <td>    0.764</td> <td>    8.281</td> <td> 0.000</td> <td>    4.825</td> <td>    7.822</td>\n",
              "</tr>\n",
              "<tr>\n",
              "  <th>race/ethnicity_group E</th>                         <td>    7.7313</td> <td>    0.969</td> <td>    7.977</td> <td> 0.000</td> <td>    5.829</td> <td>    9.633</td>\n",
              "</tr>\n",
              "<tr>\n",
              "  <th>parental level of education_associate's degree</th> <td>    4.6960</td> <td>    0.840</td> <td>    5.589</td> <td> 0.000</td> <td>    3.047</td> <td>    6.345</td>\n",
              "</tr>\n",
              "<tr>\n",
              "  <th>parental level of education_bachelor's degree</th>  <td>    6.8519</td> <td>    1.075</td> <td>    6.373</td> <td> 0.000</td> <td>    4.742</td> <td>    8.962</td>\n",
              "</tr>\n",
              "<tr>\n",
              "  <th>parental level of education_high school</th>        <td>   -0.2044</td> <td>    0.884</td> <td>   -0.231</td> <td> 0.817</td> <td>   -1.940</td> <td>    1.531</td>\n",
              "</tr>\n",
              "<tr>\n",
              "  <th>parental level of education_master's degree</th>    <td>    8.9010</td> <td>    1.466</td> <td>    6.073</td> <td> 0.000</td> <td>    6.025</td> <td>   11.777</td>\n",
              "</tr>\n",
              "<tr>\n",
              "  <th>parental level of education_some college</th>       <td>    3.4165</td> <td>    0.833</td> <td>    4.104</td> <td> 0.000</td> <td>    1.783</td> <td>    5.050</td>\n",
              "</tr>\n",
              "<tr>\n",
              "  <th>parental level of education_some high school</th>   <td>    0.6469</td> <td>    0.914</td> <td>    0.708</td> <td> 0.479</td> <td>   -1.147</td> <td>    2.441</td>\n",
              "</tr>\n",
              "<tr>\n",
              "  <th>lunch_free/reduced</th>                             <td>    8.5311</td> <td>    0.457</td> <td>   18.684</td> <td> 0.000</td> <td>    7.635</td> <td>    9.427</td>\n",
              "</tr>\n",
              "<tr>\n",
              "  <th>lunch_standard</th>                                 <td>   15.7769</td> <td>    0.418</td> <td>   37.780</td> <td> 0.000</td> <td>   14.957</td> <td>   16.596</td>\n",
              "</tr>\n",
              "<tr>\n",
              "  <th>test preparation course_completed</th>              <td>   15.8352</td> <td>    0.458</td> <td>   34.575</td> <td> 0.000</td> <td>   14.936</td> <td>   16.734</td>\n",
              "</tr>\n",
              "<tr>\n",
              "  <th>test preparation course_none</th>                   <td>    8.4727</td> <td>    0.419</td> <td>   20.222</td> <td> 0.000</td> <td>    7.651</td> <td>    9.295</td>\n",
              "</tr>\n",
              "</table>\n",
              "<table class=\"simpletable\">\n",
              "<tr>\n",
              "  <th>Omnibus:</th>       <td>11.191</td> <th>  Durbin-Watson:     </th> <td>   2.038</td>\n",
              "</tr>\n",
              "<tr>\n",
              "  <th>Prob(Omnibus):</th> <td> 0.004</td> <th>  Jarque-Bera (JB):  </th> <td>  11.258</td>\n",
              "</tr>\n",
              "<tr>\n",
              "  <th>Skew:</th>          <td>-0.242</td> <th>  Prob(JB):          </th> <td> 0.00359</td>\n",
              "</tr>\n",
              "<tr>\n",
              "  <th>Kurtosis:</th>      <td> 2.812</td> <th>  Cond. No.          </th> <td>2.15e+16</td>\n",
              "</tr>\n",
              "</table><br/><br/>Warnings:<br/>[1] Standard Errors assume that the covariance matrix of the errors is correctly specified.<br/>[2] The smallest eigenvalue is 6.55e-30. This might indicate that there are<br/>strong multicollinearity problems or that the design matrix is singular."
            ],
            "text/plain": [
              "<class 'statsmodels.iolib.summary.Summary'>\n",
              "\"\"\"\n",
              "                            OLS Regression Results                            \n",
              "==============================================================================\n",
              "Dep. Variable:          reading score   R-squared:                       0.227\n",
              "Model:                            OLS   Adj. R-squared:                  0.218\n",
              "Method:                 Least Squares   F-statistic:                     24.19\n",
              "Date:                Sat, 27 Nov 2021   Prob (F-statistic):           8.62e-48\n",
              "Time:                        13:19:57   Log-Likelihood:                -3970.5\n",
              "No. Observations:                1000   AIC:                             7967.\n",
              "Df Residuals:                     987   BIC:                             8031.\n",
              "Df Model:                          12                                         \n",
              "Covariance Type:            nonrobust                                         \n",
              "==================================================================================================================\n",
              "                                                     coef    std err          t      P>|t|      [0.025      0.975]\n",
              "------------------------------------------------------------------------------------------------------------------\n",
              "const                                             24.3079      0.183    132.753      0.000      23.949      24.667\n",
              "gender_female                                     15.6897      0.419     37.413      0.000      14.867      16.513\n",
              "gender_male                                        8.6183      0.423     20.357      0.000       7.787       9.449\n",
              "race/ethnicity_group A                             2.2178      1.171      1.893      0.059      -0.081       4.517\n",
              "race/ethnicity_group B                             3.5438      0.858      4.130      0.000       1.860       5.228\n",
              "race/ethnicity_group C                             4.4917      0.714      6.293      0.000       3.091       5.892\n",
              "race/ethnicity_group D                             6.3234      0.764      8.281      0.000       4.825       7.822\n",
              "race/ethnicity_group E                             7.7313      0.969      7.977      0.000       5.829       9.633\n",
              "parental level of education_associate's degree     4.6960      0.840      5.589      0.000       3.047       6.345\n",
              "parental level of education_bachelor's degree      6.8519      1.075      6.373      0.000       4.742       8.962\n",
              "parental level of education_high school           -0.2044      0.884     -0.231      0.817      -1.940       1.531\n",
              "parental level of education_master's degree        8.9010      1.466      6.073      0.000       6.025      11.777\n",
              "parental level of education_some college           3.4165      0.833      4.104      0.000       1.783       5.050\n",
              "parental level of education_some high school       0.6469      0.914      0.708      0.479      -1.147       2.441\n",
              "lunch_free/reduced                                 8.5311      0.457     18.684      0.000       7.635       9.427\n",
              "lunch_standard                                    15.7769      0.418     37.780      0.000      14.957      16.596\n",
              "test preparation course_completed                 15.8352      0.458     34.575      0.000      14.936      16.734\n",
              "test preparation course_none                       8.4727      0.419     20.222      0.000       7.651       9.295\n",
              "==============================================================================\n",
              "Omnibus:                       11.191   Durbin-Watson:                   2.038\n",
              "Prob(Omnibus):                  0.004   Jarque-Bera (JB):               11.258\n",
              "Skew:                          -0.242   Prob(JB):                      0.00359\n",
              "Kurtosis:                       2.812   Cond. No.                     2.15e+16\n",
              "==============================================================================\n",
              "\n",
              "Warnings:\n",
              "[1] Standard Errors assume that the covariance matrix of the errors is correctly specified.\n",
              "[2] The smallest eigenvalue is 6.55e-30. This might indicate that there are\n",
              "strong multicollinearity problems or that the design matrix is singular.\n",
              "\"\"\""
            ]
          },
          "metadata": {},
          "execution_count": 6
        }
      ]
    },
    {
      "cell_type": "code",
      "metadata": {
        "colab": {
          "base_uri": "https://localhost:8080/",
          "height": 795
        },
        "id": "Py_2kJMmjYKJ",
        "outputId": "4c84056d-c2a3-413d-ea4c-40f96d07a108"
      },
      "source": [
        "# Writing Model\n",
        "modelReadingScore = sm.OLS(eduDataLR['writing score'],eduDataLR_X).fit()\n",
        "modelReadingScore.summary()"
      ],
      "execution_count": 7,
      "outputs": [
        {
          "output_type": "execute_result",
          "data": {
            "text/html": [
              "<table class=\"simpletable\">\n",
              "<caption>OLS Regression Results</caption>\n",
              "<tr>\n",
              "  <th>Dep. Variable:</th>      <td>writing score</td>  <th>  R-squared:         </th> <td>   0.334</td>\n",
              "</tr>\n",
              "<tr>\n",
              "  <th>Model:</th>                   <td>OLS</td>       <th>  Adj. R-squared:    </th> <td>   0.326</td>\n",
              "</tr>\n",
              "<tr>\n",
              "  <th>Method:</th>             <td>Least Squares</td>  <th>  F-statistic:       </th> <td>   41.25</td>\n",
              "</tr>\n",
              "<tr>\n",
              "  <th>Date:</th>             <td>Sat, 27 Nov 2021</td> <th>  Prob (F-statistic):</th> <td>8.17e-79</td>\n",
              "</tr>\n",
              "<tr>\n",
              "  <th>Time:</th>                 <td>13:20:11</td>     <th>  Log-Likelihood:    </th> <td> -3936.2</td>\n",
              "</tr>\n",
              "<tr>\n",
              "  <th>No. Observations:</th>      <td>  1000</td>      <th>  AIC:               </th> <td>   7898.</td>\n",
              "</tr>\n",
              "<tr>\n",
              "  <th>Df Residuals:</th>          <td>   987</td>      <th>  BIC:               </th> <td>   7962.</td>\n",
              "</tr>\n",
              "<tr>\n",
              "  <th>Df Model:</th>              <td>    12</td>      <th>                     </th>     <td> </td>   \n",
              "</tr>\n",
              "<tr>\n",
              "  <th>Covariance Type:</th>      <td>nonrobust</td>    <th>                     </th>     <td> </td>   \n",
              "</tr>\n",
              "</table>\n",
              "<table class=\"simpletable\">\n",
              "<tr>\n",
              "                         <td></td>                           <th>coef</th>     <th>std err</th>      <th>t</th>      <th>P>|t|</th>  <th>[0.025</th>    <th>0.975]</th>  \n",
              "</tr>\n",
              "<tr>\n",
              "  <th>const</th>                                          <td>   24.0046</td> <td>    0.177</td> <td>  135.676</td> <td> 0.000</td> <td>   23.657</td> <td>   24.352</td>\n",
              "</tr>\n",
              "<tr>\n",
              "  <th>gender_female</th>                                  <td>   16.5506</td> <td>    0.405</td> <td>   40.845</td> <td> 0.000</td> <td>   15.755</td> <td>   17.346</td>\n",
              "</tr>\n",
              "<tr>\n",
              "  <th>gender_male</th>                                    <td>    7.4541</td> <td>    0.409</td> <td>   18.222</td> <td> 0.000</td> <td>    6.651</td> <td>    8.257</td>\n",
              "</tr>\n",
              "<tr>\n",
              "  <th>race/ethnicity_group A</th>                         <td>    1.8608</td> <td>    1.132</td> <td>    1.644</td> <td> 0.101</td> <td>   -0.360</td> <td>    4.082</td>\n",
              "</tr>\n",
              "<tr>\n",
              "  <th>race/ethnicity_group B</th>                         <td>    3.0809</td> <td>    0.829</td> <td>    3.716</td> <td> 0.000</td> <td>    1.454</td> <td>    4.708</td>\n",
              "</tr>\n",
              "<tr>\n",
              "  <th>race/ethnicity_group C</th>                         <td>    4.2734</td> <td>    0.690</td> <td>    6.196</td> <td> 0.000</td> <td>    2.920</td> <td>    5.627</td>\n",
              "</tr>\n",
              "<tr>\n",
              "  <th>race/ethnicity_group D</th>                         <td>    7.7915</td> <td>    0.738</td> <td>   10.559</td> <td> 0.000</td> <td>    6.344</td> <td>    9.239</td>\n",
              "</tr>\n",
              "<tr>\n",
              "  <th>race/ethnicity_group E</th>                         <td>    6.9981</td> <td>    0.936</td> <td>    7.473</td> <td> 0.000</td> <td>    5.160</td> <td>    8.836</td>\n",
              "</tr>\n",
              "<tr>\n",
              "  <th>parental level of education_associate's degree</th> <td>    4.5656</td> <td>    0.812</td> <td>    5.624</td> <td> 0.000</td> <td>    2.973</td> <td>    6.159</td>\n",
              "</tr>\n",
              "<tr>\n",
              "  <th>parental level of education_bachelor's degree</th>  <td>    8.0505</td> <td>    1.039</td> <td>    7.749</td> <td> 0.000</td> <td>    6.012</td> <td>   10.089</td>\n",
              "</tr>\n",
              "<tr>\n",
              "  <th>parental level of education_high school</th>        <td>   -1.2488</td> <td>    0.854</td> <td>   -1.462</td> <td> 0.144</td> <td>   -2.925</td> <td>    0.428</td>\n",
              "</tr>\n",
              "<tr>\n",
              "  <th>parental level of education_master's degree</th>    <td>    9.7488</td> <td>    1.416</td> <td>    6.884</td> <td> 0.000</td> <td>    6.970</td> <td>   12.528</td>\n",
              "</tr>\n",
              "<tr>\n",
              "  <th>parental level of education_some college</th>       <td>    3.6451</td> <td>    0.804</td> <td>    4.531</td> <td> 0.000</td> <td>    2.066</td> <td>    5.224</td>\n",
              "</tr>\n",
              "<tr>\n",
              "  <th>parental level of education_some high school</th>   <td>   -0.7566</td> <td>    0.883</td> <td>   -0.857</td> <td> 0.392</td> <td>   -2.490</td> <td>    0.976</td>\n",
              "</tr>\n",
              "<tr>\n",
              "  <th>lunch_free/reduced</th>                             <td>    7.9009</td> <td>    0.441</td> <td>   17.909</td> <td> 0.000</td> <td>    7.035</td> <td>    8.767</td>\n",
              "</tr>\n",
              "<tr>\n",
              "  <th>lunch_standard</th>                                 <td>   16.1037</td> <td>    0.404</td> <td>   39.910</td> <td> 0.000</td> <td>   15.312</td> <td>   16.896</td>\n",
              "</tr>\n",
              "<tr>\n",
              "  <th>test preparation course_completed</th>              <td>   17.0317</td> <td>    0.443</td> <td>   38.486</td> <td> 0.000</td> <td>   16.163</td> <td>   17.900</td>\n",
              "</tr>\n",
              "<tr>\n",
              "  <th>test preparation course_none</th>                   <td>    6.9730</td> <td>    0.405</td> <td>   17.224</td> <td> 0.000</td> <td>    6.179</td> <td>    7.767</td>\n",
              "</tr>\n",
              "</table>\n",
              "<table class=\"simpletable\">\n",
              "<tr>\n",
              "  <th>Omnibus:</th>       <td>16.647</td> <th>  Durbin-Watson:     </th> <td>   2.038</td>\n",
              "</tr>\n",
              "<tr>\n",
              "  <th>Prob(Omnibus):</th> <td> 0.000</td> <th>  Jarque-Bera (JB):  </th> <td>  17.222</td>\n",
              "</tr>\n",
              "<tr>\n",
              "  <th>Skew:</th>          <td>-0.321</td> <th>  Prob(JB):          </th> <td>0.000182</td>\n",
              "</tr>\n",
              "<tr>\n",
              "  <th>Kurtosis:</th>      <td> 2.982</td> <th>  Cond. No.          </th> <td>2.15e+16</td>\n",
              "</tr>\n",
              "</table><br/><br/>Warnings:<br/>[1] Standard Errors assume that the covariance matrix of the errors is correctly specified.<br/>[2] The smallest eigenvalue is 6.55e-30. This might indicate that there are<br/>strong multicollinearity problems or that the design matrix is singular."
            ],
            "text/plain": [
              "<class 'statsmodels.iolib.summary.Summary'>\n",
              "\"\"\"\n",
              "                            OLS Regression Results                            \n",
              "==============================================================================\n",
              "Dep. Variable:          writing score   R-squared:                       0.334\n",
              "Model:                            OLS   Adj. R-squared:                  0.326\n",
              "Method:                 Least Squares   F-statistic:                     41.25\n",
              "Date:                Sat, 27 Nov 2021   Prob (F-statistic):           8.17e-79\n",
              "Time:                        13:20:11   Log-Likelihood:                -3936.2\n",
              "No. Observations:                1000   AIC:                             7898.\n",
              "Df Residuals:                     987   BIC:                             7962.\n",
              "Df Model:                          12                                         \n",
              "Covariance Type:            nonrobust                                         \n",
              "==================================================================================================================\n",
              "                                                     coef    std err          t      P>|t|      [0.025      0.975]\n",
              "------------------------------------------------------------------------------------------------------------------\n",
              "const                                             24.0046      0.177    135.676      0.000      23.657      24.352\n",
              "gender_female                                     16.5506      0.405     40.845      0.000      15.755      17.346\n",
              "gender_male                                        7.4541      0.409     18.222      0.000       6.651       8.257\n",
              "race/ethnicity_group A                             1.8608      1.132      1.644      0.101      -0.360       4.082\n",
              "race/ethnicity_group B                             3.0809      0.829      3.716      0.000       1.454       4.708\n",
              "race/ethnicity_group C                             4.2734      0.690      6.196      0.000       2.920       5.627\n",
              "race/ethnicity_group D                             7.7915      0.738     10.559      0.000       6.344       9.239\n",
              "race/ethnicity_group E                             6.9981      0.936      7.473      0.000       5.160       8.836\n",
              "parental level of education_associate's degree     4.5656      0.812      5.624      0.000       2.973       6.159\n",
              "parental level of education_bachelor's degree      8.0505      1.039      7.749      0.000       6.012      10.089\n",
              "parental level of education_high school           -1.2488      0.854     -1.462      0.144      -2.925       0.428\n",
              "parental level of education_master's degree        9.7488      1.416      6.884      0.000       6.970      12.528\n",
              "parental level of education_some college           3.6451      0.804      4.531      0.000       2.066       5.224\n",
              "parental level of education_some high school      -0.7566      0.883     -0.857      0.392      -2.490       0.976\n",
              "lunch_free/reduced                                 7.9009      0.441     17.909      0.000       7.035       8.767\n",
              "lunch_standard                                    16.1037      0.404     39.910      0.000      15.312      16.896\n",
              "test preparation course_completed                 17.0317      0.443     38.486      0.000      16.163      17.900\n",
              "test preparation course_none                       6.9730      0.405     17.224      0.000       6.179       7.767\n",
              "==============================================================================\n",
              "Omnibus:                       16.647   Durbin-Watson:                   2.038\n",
              "Prob(Omnibus):                  0.000   Jarque-Bera (JB):               17.222\n",
              "Skew:                          -0.321   Prob(JB):                     0.000182\n",
              "Kurtosis:                       2.982   Cond. No.                     2.15e+16\n",
              "==============================================================================\n",
              "\n",
              "Warnings:\n",
              "[1] Standard Errors assume that the covariance matrix of the errors is correctly specified.\n",
              "[2] The smallest eigenvalue is 6.55e-30. This might indicate that there are\n",
              "strong multicollinearity problems or that the design matrix is singular.\n",
              "\"\"\""
            ]
          },
          "metadata": {},
          "execution_count": 7
        }
      ]
    },
    {
      "cell_type": "code",
      "metadata": {
        "id": "Iq7pIG-Sjbm3"
      },
      "source": [
        "eduDataReduce = data.drop(columns=['gender','lunch'])\n",
        "\n",
        "# Preparing Dataset for Linear Regression\n",
        "eduDataLR = pd.get_dummies(eduDataReduce)\n",
        "\n",
        "# Explanatory Variables\n",
        "eduDataLR_X = eduDataLR.drop(columns=['math score','reading score', 'writing score', ])\n",
        "eduDataLR_X = sm.add_constant(eduDataLR_X)"
      ],
      "execution_count": 9,
      "outputs": []
    },
    {
      "cell_type": "code",
      "metadata": {
        "colab": {
          "base_uri": "https://localhost:8080/",
          "height": 714
        },
        "id": "gD1QIuZrjlYp",
        "outputId": "90ef7155-ec0a-4b6c-d37b-42270148450c"
      },
      "source": [
        "# Math Score Model\n",
        "modelMathScore = sm.OLS(eduDataLR['math score'],eduDataLR_X).fit()\n",
        "modelMathScore.summary()"
      ],
      "execution_count": 10,
      "outputs": [
        {
          "output_type": "execute_result",
          "data": {
            "text/html": [
              "<table class=\"simpletable\">\n",
              "<caption>OLS Regression Results</caption>\n",
              "<tr>\n",
              "  <th>Dep. Variable:</th>       <td>math score</td>    <th>  R-squared:         </th> <td>   0.108</td>\n",
              "</tr>\n",
              "<tr>\n",
              "  <th>Model:</th>                   <td>OLS</td>       <th>  Adj. R-squared:    </th> <td>   0.099</td>\n",
              "</tr>\n",
              "<tr>\n",
              "  <th>Method:</th>             <td>Least Squares</td>  <th>  F-statistic:       </th> <td>   12.01</td>\n",
              "</tr>\n",
              "<tr>\n",
              "  <th>Date:</th>             <td>Sat, 27 Nov 2021</td> <th>  Prob (F-statistic):</th> <td>9.20e-20</td>\n",
              "</tr>\n",
              "<tr>\n",
              "  <th>Time:</th>                 <td>13:22:22</td>     <th>  Log-Likelihood:    </th> <td> -4080.0</td>\n",
              "</tr>\n",
              "<tr>\n",
              "  <th>No. Observations:</th>      <td>  1000</td>      <th>  AIC:               </th> <td>   8182.</td>\n",
              "</tr>\n",
              "<tr>\n",
              "  <th>Df Residuals:</th>          <td>   989</td>      <th>  BIC:               </th> <td>   8236.</td>\n",
              "</tr>\n",
              "<tr>\n",
              "  <th>Df Model:</th>              <td>    10</td>      <th>                     </th>     <td> </td>   \n",
              "</tr>\n",
              "<tr>\n",
              "  <th>Covariance Type:</th>      <td>nonrobust</td>    <th>                     </th>     <td> </td>   \n",
              "</tr>\n",
              "</table>\n",
              "<table class=\"simpletable\">\n",
              "<tr>\n",
              "                         <td></td>                           <th>coef</th>     <th>std err</th>      <th>t</th>      <th>P>|t|</th>  <th>[0.025</th>    <th>0.975]</th>  \n",
              "</tr>\n",
              "<tr>\n",
              "  <th>const</th>                                          <td>   36.1137</td> <td>    0.306</td> <td>  118.075</td> <td> 0.000</td> <td>   35.514</td> <td>   36.714</td>\n",
              "</tr>\n",
              "<tr>\n",
              "  <th>race/ethnicity_group A</th>                         <td>    3.1394</td> <td>    1.309</td> <td>    2.398</td> <td> 0.017</td> <td>    0.570</td> <td>    5.709</td>\n",
              "</tr>\n",
              "<tr>\n",
              "  <th>race/ethnicity_group B</th>                         <td>    4.9117</td> <td>    0.955</td> <td>    5.142</td> <td> 0.000</td> <td>    3.037</td> <td>    6.786</td>\n",
              "</tr>\n",
              "<tr>\n",
              "  <th>race/ethnicity_group C</th>                         <td>    5.3764</td> <td>    0.789</td> <td>    6.818</td> <td> 0.000</td> <td>    3.829</td> <td>    6.924</td>\n",
              "</tr>\n",
              "<tr>\n",
              "  <th>race/ethnicity_group D</th>                         <td>    8.5640</td> <td>    0.848</td> <td>   10.101</td> <td> 0.000</td> <td>    6.900</td> <td>   10.228</td>\n",
              "</tr>\n",
              "<tr>\n",
              "  <th>race/ethnicity_group E</th>                         <td>   14.1221</td> <td>    1.080</td> <td>   13.077</td> <td> 0.000</td> <td>   12.003</td> <td>   16.241</td>\n",
              "</tr>\n",
              "<tr>\n",
              "  <th>parental level of education_associate's degree</th> <td>    7.0020</td> <td>    0.934</td> <td>    7.500</td> <td> 0.000</td> <td>    5.170</td> <td>    8.834</td>\n",
              "</tr>\n",
              "<tr>\n",
              "  <th>parental level of education_bachelor's degree</th>  <td>    8.6435</td> <td>    1.200</td> <td>    7.205</td> <td> 0.000</td> <td>    6.289</td> <td>   10.998</td>\n",
              "</tr>\n",
              "<tr>\n",
              "  <th>parental level of education_high school</th>        <td>    2.3504</td> <td>    0.983</td> <td>    2.392</td> <td> 0.017</td> <td>    0.422</td> <td>    4.279</td>\n",
              "</tr>\n",
              "<tr>\n",
              "  <th>parental level of education_master's degree</th>    <td>    8.7862</td> <td>    1.638</td> <td>    5.363</td> <td> 0.000</td> <td>    5.571</td> <td>   12.001</td>\n",
              "</tr>\n",
              "<tr>\n",
              "  <th>parental level of education_some college</th>       <td>    6.3819</td> <td>    0.925</td> <td>    6.899</td> <td> 0.000</td> <td>    4.566</td> <td>    8.197</td>\n",
              "</tr>\n",
              "<tr>\n",
              "  <th>parental level of education_some high school</th>   <td>    2.9497</td> <td>    1.016</td> <td>    2.903</td> <td> 0.004</td> <td>    0.956</td> <td>    4.944</td>\n",
              "</tr>\n",
              "<tr>\n",
              "  <th>test preparation course_completed</th>              <td>   20.7115</td> <td>    0.534</td> <td>   38.760</td> <td> 0.000</td> <td>   19.663</td> <td>   21.760</td>\n",
              "</tr>\n",
              "<tr>\n",
              "  <th>test preparation course_none</th>                   <td>   15.4022</td> <td>    0.468</td> <td>   32.928</td> <td> 0.000</td> <td>   14.484</td> <td>   16.320</td>\n",
              "</tr>\n",
              "</table>\n",
              "<table class=\"simpletable\">\n",
              "<tr>\n",
              "  <th>Omnibus:</th>       <td>17.714</td> <th>  Durbin-Watson:     </th> <td>   2.050</td>\n",
              "</tr>\n",
              "<tr>\n",
              "  <th>Prob(Omnibus):</th> <td> 0.000</td> <th>  Jarque-Bera (JB):  </th> <td>  18.162</td>\n",
              "</tr>\n",
              "<tr>\n",
              "  <th>Skew:</th>          <td>-0.320</td> <th>  Prob(JB):          </th> <td>0.000114</td>\n",
              "</tr>\n",
              "<tr>\n",
              "  <th>Kurtosis:</th>      <td> 3.161</td> <th>  Cond. No.          </th> <td>4.67e+15</td>\n",
              "</tr>\n",
              "</table><br/><br/>Warnings:<br/>[1] Standard Errors assume that the covariance matrix of the errors is correctly specified.<br/>[2] The smallest eigenvalue is 9.07e-29. This might indicate that there are<br/>strong multicollinearity problems or that the design matrix is singular."
            ],
            "text/plain": [
              "<class 'statsmodels.iolib.summary.Summary'>\n",
              "\"\"\"\n",
              "                            OLS Regression Results                            \n",
              "==============================================================================\n",
              "Dep. Variable:             math score   R-squared:                       0.108\n",
              "Model:                            OLS   Adj. R-squared:                  0.099\n",
              "Method:                 Least Squares   F-statistic:                     12.01\n",
              "Date:                Sat, 27 Nov 2021   Prob (F-statistic):           9.20e-20\n",
              "Time:                        13:22:22   Log-Likelihood:                -4080.0\n",
              "No. Observations:                1000   AIC:                             8182.\n",
              "Df Residuals:                     989   BIC:                             8236.\n",
              "Df Model:                          10                                         \n",
              "Covariance Type:            nonrobust                                         \n",
              "==================================================================================================================\n",
              "                                                     coef    std err          t      P>|t|      [0.025      0.975]\n",
              "------------------------------------------------------------------------------------------------------------------\n",
              "const                                             36.1137      0.306    118.075      0.000      35.514      36.714\n",
              "race/ethnicity_group A                             3.1394      1.309      2.398      0.017       0.570       5.709\n",
              "race/ethnicity_group B                             4.9117      0.955      5.142      0.000       3.037       6.786\n",
              "race/ethnicity_group C                             5.3764      0.789      6.818      0.000       3.829       6.924\n",
              "race/ethnicity_group D                             8.5640      0.848     10.101      0.000       6.900      10.228\n",
              "race/ethnicity_group E                            14.1221      1.080     13.077      0.000      12.003      16.241\n",
              "parental level of education_associate's degree     7.0020      0.934      7.500      0.000       5.170       8.834\n",
              "parental level of education_bachelor's degree      8.6435      1.200      7.205      0.000       6.289      10.998\n",
              "parental level of education_high school            2.3504      0.983      2.392      0.017       0.422       4.279\n",
              "parental level of education_master's degree        8.7862      1.638      5.363      0.000       5.571      12.001\n",
              "parental level of education_some college           6.3819      0.925      6.899      0.000       4.566       8.197\n",
              "parental level of education_some high school       2.9497      1.016      2.903      0.004       0.956       4.944\n",
              "test preparation course_completed                 20.7115      0.534     38.760      0.000      19.663      21.760\n",
              "test preparation course_none                      15.4022      0.468     32.928      0.000      14.484      16.320\n",
              "==============================================================================\n",
              "Omnibus:                       17.714   Durbin-Watson:                   2.050\n",
              "Prob(Omnibus):                  0.000   Jarque-Bera (JB):               18.162\n",
              "Skew:                          -0.320   Prob(JB):                     0.000114\n",
              "Kurtosis:                       3.161   Cond. No.                     4.67e+15\n",
              "==============================================================================\n",
              "\n",
              "Warnings:\n",
              "[1] Standard Errors assume that the covariance matrix of the errors is correctly specified.\n",
              "[2] The smallest eigenvalue is 9.07e-29. This might indicate that there are\n",
              "strong multicollinearity problems or that the design matrix is singular.\n",
              "\"\"\""
            ]
          },
          "metadata": {},
          "execution_count": 10
        }
      ]
    },
    {
      "cell_type": "code",
      "metadata": {
        "colab": {
          "base_uri": "https://localhost:8080/",
          "height": 714
        },
        "id": "dnIodpfcj9va",
        "outputId": "b53a4af0-d59e-4701-8d1d-40b12257bda1"
      },
      "source": [
        "# Reading Model\n",
        "modelReadingScore = sm.OLS(eduDataLR['reading score'],eduDataLR_X).fit()\n",
        "modelReadingScore.summary()"
      ],
      "execution_count": 11,
      "outputs": [
        {
          "output_type": "execute_result",
          "data": {
            "text/html": [
              "<table class=\"simpletable\">\n",
              "<caption>OLS Regression Results</caption>\n",
              "<tr>\n",
              "  <th>Dep. Variable:</th>      <td>reading score</td>  <th>  R-squared:         </th> <td>   0.116</td>\n",
              "</tr>\n",
              "<tr>\n",
              "  <th>Model:</th>                   <td>OLS</td>       <th>  Adj. R-squared:    </th> <td>   0.107</td>\n",
              "</tr>\n",
              "<tr>\n",
              "  <th>Method:</th>             <td>Least Squares</td>  <th>  F-statistic:       </th> <td>   12.94</td>\n",
              "</tr>\n",
              "<tr>\n",
              "  <th>Date:</th>             <td>Sat, 27 Nov 2021</td> <th>  Prob (F-statistic):</th> <td>1.92e-21</td>\n",
              "</tr>\n",
              "<tr>\n",
              "  <th>Time:</th>                 <td>13:22:39</td>     <th>  Log-Likelihood:    </th> <td> -4038.0</td>\n",
              "</tr>\n",
              "<tr>\n",
              "  <th>No. Observations:</th>      <td>  1000</td>      <th>  AIC:               </th> <td>   8098.</td>\n",
              "</tr>\n",
              "<tr>\n",
              "  <th>Df Residuals:</th>          <td>   989</td>      <th>  BIC:               </th> <td>   8152.</td>\n",
              "</tr>\n",
              "<tr>\n",
              "  <th>Df Model:</th>              <td>    10</td>      <th>                     </th>     <td> </td>   \n",
              "</tr>\n",
              "<tr>\n",
              "  <th>Covariance Type:</th>      <td>nonrobust</td>    <th>                     </th>     <td> </td>   \n",
              "</tr>\n",
              "</table>\n",
              "<table class=\"simpletable\">\n",
              "<tr>\n",
              "                         <td></td>                           <th>coef</th>     <th>std err</th>      <th>t</th>      <th>P>|t|</th>  <th>[0.025</th>    <th>0.975]</th>  \n",
              "</tr>\n",
              "<tr>\n",
              "  <th>const</th>                                          <td>   37.8900</td> <td>    0.293</td> <td>  129.198</td> <td> 0.000</td> <td>   37.315</td> <td>   38.466</td>\n",
              "</tr>\n",
              "<tr>\n",
              "  <th>race/ethnicity_group A</th>                         <td>    3.9036</td> <td>    1.255</td> <td>    3.109</td> <td> 0.002</td> <td>    1.440</td> <td>    6.367</td>\n",
              "</tr>\n",
              "<tr>\n",
              "  <th>race/ethnicity_group B</th>                         <td>    6.5654</td> <td>    0.916</td> <td>    7.168</td> <td> 0.000</td> <td>    4.768</td> <td>    8.363</td>\n",
              "</tr>\n",
              "<tr>\n",
              "  <th>race/ethnicity_group C</th>                         <td>    7.6563</td> <td>    0.756</td> <td>   10.125</td> <td> 0.000</td> <td>    6.172</td> <td>    9.140</td>\n",
              "</tr>\n",
              "<tr>\n",
              "  <th>race/ethnicity_group D</th>                         <td>    8.9056</td> <td>    0.813</td> <td>   10.955</td> <td> 0.000</td> <td>    7.310</td> <td>   10.501</td>\n",
              "</tr>\n",
              "<tr>\n",
              "  <th>race/ethnicity_group E</th>                         <td>   10.8592</td> <td>    1.036</td> <td>   10.487</td> <td> 0.000</td> <td>    8.827</td> <td>   12.891</td>\n",
              "</tr>\n",
              "<tr>\n",
              "  <th>parental level of education_associate's degree</th> <td>    6.9629</td> <td>    0.895</td> <td>    7.778</td> <td> 0.000</td> <td>    5.206</td> <td>    8.720</td>\n",
              "</tr>\n",
              "<tr>\n",
              "  <th>parental level of education_bachelor's degree</th>  <td>    9.0764</td> <td>    1.150</td> <td>    7.891</td> <td> 0.000</td> <td>    6.819</td> <td>   11.334</td>\n",
              "</tr>\n",
              "<tr>\n",
              "  <th>parental level of education_high school</th>        <td>    1.7138</td> <td>    0.942</td> <td>    1.819</td> <td> 0.069</td> <td>   -0.135</td> <td>    3.563</td>\n",
              "</tr>\n",
              "<tr>\n",
              "  <th>parental level of education_master's degree</th>    <td>   11.4111</td> <td>    1.571</td> <td>    7.264</td> <td> 0.000</td> <td>    8.328</td> <td>   14.494</td>\n",
              "</tr>\n",
              "<tr>\n",
              "  <th>parental level of education_some college</th>       <td>    5.7167</td> <td>    0.887</td> <td>    6.445</td> <td> 0.000</td> <td>    3.976</td> <td>    7.457</td>\n",
              "</tr>\n",
              "<tr>\n",
              "  <th>parental level of education_some high school</th>   <td>    3.0092</td> <td>    0.974</td> <td>    3.089</td> <td> 0.002</td> <td>    1.097</td> <td>    4.921</td>\n",
              "</tr>\n",
              "<tr>\n",
              "  <th>test preparation course_completed</th>              <td>   22.5133</td> <td>    0.512</td> <td>   43.940</td> <td> 0.000</td> <td>   21.508</td> <td>   23.519</td>\n",
              "</tr>\n",
              "<tr>\n",
              "  <th>test preparation course_none</th>                   <td>   15.3768</td> <td>    0.449</td> <td>   34.284</td> <td> 0.000</td> <td>   14.497</td> <td>   16.257</td>\n",
              "</tr>\n",
              "</table>\n",
              "<table class=\"simpletable\">\n",
              "<tr>\n",
              "  <th>Omnibus:</th>       <td>10.229</td> <th>  Durbin-Watson:     </th> <td>   1.995</td>\n",
              "</tr>\n",
              "<tr>\n",
              "  <th>Prob(Omnibus):</th> <td> 0.006</td> <th>  Jarque-Bera (JB):  </th> <td>  10.395</td>\n",
              "</tr>\n",
              "<tr>\n",
              "  <th>Skew:</th>          <td>-0.238</td> <th>  Prob(JB):          </th> <td> 0.00553</td>\n",
              "</tr>\n",
              "<tr>\n",
              "  <th>Kurtosis:</th>      <td> 2.850</td> <th>  Cond. No.          </th> <td>4.67e+15</td>\n",
              "</tr>\n",
              "</table><br/><br/>Warnings:<br/>[1] Standard Errors assume that the covariance matrix of the errors is correctly specified.<br/>[2] The smallest eigenvalue is 9.07e-29. This might indicate that there are<br/>strong multicollinearity problems or that the design matrix is singular."
            ],
            "text/plain": [
              "<class 'statsmodels.iolib.summary.Summary'>\n",
              "\"\"\"\n",
              "                            OLS Regression Results                            \n",
              "==============================================================================\n",
              "Dep. Variable:          reading score   R-squared:                       0.116\n",
              "Model:                            OLS   Adj. R-squared:                  0.107\n",
              "Method:                 Least Squares   F-statistic:                     12.94\n",
              "Date:                Sat, 27 Nov 2021   Prob (F-statistic):           1.92e-21\n",
              "Time:                        13:22:39   Log-Likelihood:                -4038.0\n",
              "No. Observations:                1000   AIC:                             8098.\n",
              "Df Residuals:                     989   BIC:                             8152.\n",
              "Df Model:                          10                                         \n",
              "Covariance Type:            nonrobust                                         \n",
              "==================================================================================================================\n",
              "                                                     coef    std err          t      P>|t|      [0.025      0.975]\n",
              "------------------------------------------------------------------------------------------------------------------\n",
              "const                                             37.8900      0.293    129.198      0.000      37.315      38.466\n",
              "race/ethnicity_group A                             3.9036      1.255      3.109      0.002       1.440       6.367\n",
              "race/ethnicity_group B                             6.5654      0.916      7.168      0.000       4.768       8.363\n",
              "race/ethnicity_group C                             7.6563      0.756     10.125      0.000       6.172       9.140\n",
              "race/ethnicity_group D                             8.9056      0.813     10.955      0.000       7.310      10.501\n",
              "race/ethnicity_group E                            10.8592      1.036     10.487      0.000       8.827      12.891\n",
              "parental level of education_associate's degree     6.9629      0.895      7.778      0.000       5.206       8.720\n",
              "parental level of education_bachelor's degree      9.0764      1.150      7.891      0.000       6.819      11.334\n",
              "parental level of education_high school            1.7138      0.942      1.819      0.069      -0.135       3.563\n",
              "parental level of education_master's degree       11.4111      1.571      7.264      0.000       8.328      14.494\n",
              "parental level of education_some college           5.7167      0.887      6.445      0.000       3.976       7.457\n",
              "parental level of education_some high school       3.0092      0.974      3.089      0.002       1.097       4.921\n",
              "test preparation course_completed                 22.5133      0.512     43.940      0.000      21.508      23.519\n",
              "test preparation course_none                      15.3768      0.449     34.284      0.000      14.497      16.257\n",
              "==============================================================================\n",
              "Omnibus:                       10.229   Durbin-Watson:                   1.995\n",
              "Prob(Omnibus):                  0.006   Jarque-Bera (JB):               10.395\n",
              "Skew:                          -0.238   Prob(JB):                      0.00553\n",
              "Kurtosis:                       2.850   Cond. No.                     4.67e+15\n",
              "==============================================================================\n",
              "\n",
              "Warnings:\n",
              "[1] Standard Errors assume that the covariance matrix of the errors is correctly specified.\n",
              "[2] The smallest eigenvalue is 9.07e-29. This might indicate that there are\n",
              "strong multicollinearity problems or that the design matrix is singular.\n",
              "\"\"\""
            ]
          },
          "metadata": {},
          "execution_count": 11
        }
      ]
    },
    {
      "cell_type": "code",
      "metadata": {
        "colab": {
          "base_uri": "https://localhost:8080/",
          "height": 714
        },
        "id": "w9yCws8kkCm7",
        "outputId": "f26ddb2a-d92c-4ea9-d40e-72c9e1635a2b"
      },
      "source": [
        "# Writing Model\n",
        "modelReadingScore = sm.OLS(eduDataLR['writing score'],eduDataLR_X).fit()\n",
        "modelReadingScore.summary()"
      ],
      "execution_count": 12,
      "outputs": [
        {
          "output_type": "execute_result",
          "data": {
            "text/html": [
              "<table class=\"simpletable\">\n",
              "<caption>OLS Regression Results</caption>\n",
              "<tr>\n",
              "  <th>Dep. Variable:</th>      <td>writing score</td>  <th>  R-squared:         </th> <td>   0.182</td>\n",
              "</tr>\n",
              "<tr>\n",
              "  <th>Model:</th>                   <td>OLS</td>       <th>  Adj. R-squared:    </th> <td>   0.174</td>\n",
              "</tr>\n",
              "<tr>\n",
              "  <th>Method:</th>             <td>Least Squares</td>  <th>  F-statistic:       </th> <td>   22.07</td>\n",
              "</tr>\n",
              "<tr>\n",
              "  <th>Date:</th>             <td>Sat, 27 Nov 2021</td> <th>  Prob (F-statistic):</th> <td>1.63e-37</td>\n",
              "</tr>\n",
              "<tr>\n",
              "  <th>Time:</th>                 <td>13:22:59</td>     <th>  Log-Likelihood:    </th> <td> -4038.7</td>\n",
              "</tr>\n",
              "<tr>\n",
              "  <th>No. Observations:</th>      <td>  1000</td>      <th>  AIC:               </th> <td>   8099.</td>\n",
              "</tr>\n",
              "<tr>\n",
              "  <th>Df Residuals:</th>          <td>   989</td>      <th>  BIC:               </th> <td>   8153.</td>\n",
              "</tr>\n",
              "<tr>\n",
              "  <th>Df Model:</th>              <td>    10</td>      <th>                     </th>     <td> </td>   \n",
              "</tr>\n",
              "<tr>\n",
              "  <th>Covariance Type:</th>      <td>nonrobust</td>    <th>                     </th>     <td> </td>   \n",
              "</tr>\n",
              "</table>\n",
              "<table class=\"simpletable\">\n",
              "<tr>\n",
              "                         <td></td>                           <th>coef</th>     <th>std err</th>      <th>t</th>      <th>P>|t|</th>  <th>[0.025</th>    <th>0.975]</th>  \n",
              "</tr>\n",
              "<tr>\n",
              "  <th>const</th>                                          <td>   37.5049</td> <td>    0.293</td> <td>  127.789</td> <td> 0.000</td> <td>   36.929</td> <td>   38.081</td>\n",
              "</tr>\n",
              "<tr>\n",
              "  <th>race/ethnicity_group A</th>                         <td>    3.2920</td> <td>    1.256</td> <td>    2.620</td> <td> 0.009</td> <td>    0.826</td> <td>    5.757</td>\n",
              "</tr>\n",
              "<tr>\n",
              "  <th>race/ethnicity_group B</th>                         <td>    6.1832</td> <td>    0.917</td> <td>    6.746</td> <td> 0.000</td> <td>    4.384</td> <td>    7.982</td>\n",
              "</tr>\n",
              "<tr>\n",
              "  <th>race/ethnicity_group C</th>                         <td>    7.5501</td> <td>    0.757</td> <td>    9.977</td> <td> 0.000</td> <td>    6.065</td> <td>    9.035</td>\n",
              "</tr>\n",
              "<tr>\n",
              "  <th>race/ethnicity_group D</th>                         <td>   10.3257</td> <td>    0.814</td> <td>   12.692</td> <td> 0.000</td> <td>    8.729</td> <td>   11.922</td>\n",
              "</tr>\n",
              "<tr>\n",
              "  <th>race/ethnicity_group E</th>                         <td>   10.1539</td> <td>    1.036</td> <td>    9.798</td> <td> 0.000</td> <td>    8.120</td> <td>   12.187</td>\n",
              "</tr>\n",
              "<tr>\n",
              "  <th>parental level of education_associate's degree</th> <td>    6.8066</td> <td>    0.896</td> <td>    7.598</td> <td> 0.000</td> <td>    5.049</td> <td>    8.565</td>\n",
              "</tr>\n",
              "<tr>\n",
              "  <th>parental level of education_bachelor's degree</th>  <td>   10.2617</td> <td>    1.151</td> <td>    8.914</td> <td> 0.000</td> <td>    8.003</td> <td>   12.521</td>\n",
              "</tr>\n",
              "<tr>\n",
              "  <th>parental level of education_high school</th>        <td>    0.5503</td> <td>    0.943</td> <td>    0.584</td> <td> 0.560</td> <td>   -1.300</td> <td>    2.400</td>\n",
              "</tr>\n",
              "<tr>\n",
              "  <th>parental level of education_master's degree</th>    <td>   12.3677</td> <td>    1.572</td> <td>    7.867</td> <td> 0.000</td> <td>    9.283</td> <td>   15.453</td>\n",
              "</tr>\n",
              "<tr>\n",
              "  <th>parental level of education_some college</th>       <td>    5.9299</td> <td>    0.888</td> <td>    6.680</td> <td> 0.000</td> <td>    4.188</td> <td>    7.672</td>\n",
              "</tr>\n",
              "<tr>\n",
              "  <th>parental level of education_some high school</th>   <td>    1.5886</td> <td>    0.975</td> <td>    1.629</td> <td> 0.104</td> <td>   -0.325</td> <td>    3.502</td>\n",
              "</tr>\n",
              "<tr>\n",
              "  <th>test preparation course_completed</th>              <td>   23.6485</td> <td>    0.513</td> <td>   46.121</td> <td> 0.000</td> <td>   22.642</td> <td>   24.655</td>\n",
              "</tr>\n",
              "<tr>\n",
              "  <th>test preparation course_none</th>                   <td>   13.8564</td> <td>    0.449</td> <td>   30.871</td> <td> 0.000</td> <td>   12.976</td> <td>   14.737</td>\n",
              "</tr>\n",
              "</table>\n",
              "<table class=\"simpletable\">\n",
              "<tr>\n",
              "  <th>Omnibus:</th>       <td>10.952</td> <th>  Durbin-Watson:     </th> <td>   1.982</td>\n",
              "</tr>\n",
              "<tr>\n",
              "  <th>Prob(Omnibus):</th> <td> 0.004</td> <th>  Jarque-Bera (JB):  </th> <td>  11.211</td>\n",
              "</tr>\n",
              "<tr>\n",
              "  <th>Skew:</th>          <td>-0.257</td> <th>  Prob(JB):          </th> <td> 0.00368</td>\n",
              "</tr>\n",
              "<tr>\n",
              "  <th>Kurtosis:</th>      <td> 2.924</td> <th>  Cond. No.          </th> <td>4.67e+15</td>\n",
              "</tr>\n",
              "</table><br/><br/>Warnings:<br/>[1] Standard Errors assume that the covariance matrix of the errors is correctly specified.<br/>[2] The smallest eigenvalue is 9.07e-29. This might indicate that there are<br/>strong multicollinearity problems or that the design matrix is singular."
            ],
            "text/plain": [
              "<class 'statsmodels.iolib.summary.Summary'>\n",
              "\"\"\"\n",
              "                            OLS Regression Results                            \n",
              "==============================================================================\n",
              "Dep. Variable:          writing score   R-squared:                       0.182\n",
              "Model:                            OLS   Adj. R-squared:                  0.174\n",
              "Method:                 Least Squares   F-statistic:                     22.07\n",
              "Date:                Sat, 27 Nov 2021   Prob (F-statistic):           1.63e-37\n",
              "Time:                        13:22:59   Log-Likelihood:                -4038.7\n",
              "No. Observations:                1000   AIC:                             8099.\n",
              "Df Residuals:                     989   BIC:                             8153.\n",
              "Df Model:                          10                                         \n",
              "Covariance Type:            nonrobust                                         \n",
              "==================================================================================================================\n",
              "                                                     coef    std err          t      P>|t|      [0.025      0.975]\n",
              "------------------------------------------------------------------------------------------------------------------\n",
              "const                                             37.5049      0.293    127.789      0.000      36.929      38.081\n",
              "race/ethnicity_group A                             3.2920      1.256      2.620      0.009       0.826       5.757\n",
              "race/ethnicity_group B                             6.1832      0.917      6.746      0.000       4.384       7.982\n",
              "race/ethnicity_group C                             7.5501      0.757      9.977      0.000       6.065       9.035\n",
              "race/ethnicity_group D                            10.3257      0.814     12.692      0.000       8.729      11.922\n",
              "race/ethnicity_group E                            10.1539      1.036      9.798      0.000       8.120      12.187\n",
              "parental level of education_associate's degree     6.8066      0.896      7.598      0.000       5.049       8.565\n",
              "parental level of education_bachelor's degree     10.2617      1.151      8.914      0.000       8.003      12.521\n",
              "parental level of education_high school            0.5503      0.943      0.584      0.560      -1.300       2.400\n",
              "parental level of education_master's degree       12.3677      1.572      7.867      0.000       9.283      15.453\n",
              "parental level of education_some college           5.9299      0.888      6.680      0.000       4.188       7.672\n",
              "parental level of education_some high school       1.5886      0.975      1.629      0.104      -0.325       3.502\n",
              "test preparation course_completed                 23.6485      0.513     46.121      0.000      22.642      24.655\n",
              "test preparation course_none                      13.8564      0.449     30.871      0.000      12.976      14.737\n",
              "==============================================================================\n",
              "Omnibus:                       10.952   Durbin-Watson:                   1.982\n",
              "Prob(Omnibus):                  0.004   Jarque-Bera (JB):               11.211\n",
              "Skew:                          -0.257   Prob(JB):                      0.00368\n",
              "Kurtosis:                       2.924   Cond. No.                     4.67e+15\n",
              "==============================================================================\n",
              "\n",
              "Warnings:\n",
              "[1] Standard Errors assume that the covariance matrix of the errors is correctly specified.\n",
              "[2] The smallest eigenvalue is 9.07e-29. This might indicate that there are\n",
              "strong multicollinearity problems or that the design matrix is singular.\n",
              "\"\"\""
            ]
          },
          "metadata": {},
          "execution_count": 12
        }
      ]
    },
    {
      "cell_type": "code",
      "metadata": {
        "id": "mxu0QzhCzDOJ"
      },
      "source": [
        "train_X, valid_X, train_y, valid_y = train_test_split(eduDataLR, eduDataLR_X, test_size=0.2, shuffle = True, random_state=1)"
      ],
      "execution_count": 67,
      "outputs": []
    },
    {
      "cell_type": "code",
      "metadata": {
        "id": "nw5GU9Tbymjf"
      },
      "source": [
        "from sklearn.metrics import mean_absolute_error,mean_squared_error,explained_variance_score,r2_score\n",
        "def evaluateRegressor(true,predicted,message = \"Test set\"):\n",
        "    MSE = mean_squared_error(true,predicted,squared = True)\n",
        "    MAE = mean_absolute_error(true,predicted)\n",
        "    RMSE = mean_squared_error(true,predicted,squared = False)\n",
        "    R_squared = r2_score(true,predicted)\n",
        "    print(message)\n",
        "    print(\"MSE:\", MSE)\n",
        "    print(\"MAE:\", MAE)\n",
        "    print(\"RMSE:\", RMSE)\n",
        "    print(\"R-squared:\", R_squared)"
      ],
      "execution_count": 55,
      "outputs": []
    },
    {
      "cell_type": "code",
      "metadata": {
        "colab": {
          "base_uri": "https://localhost:8080/"
        },
        "id": "hGfU4Xyeyo5W",
        "outputId": "a549eb94-f3ec-4162-c9ba-ff4bb5aedb76"
      },
      "source": [
        "from sklearn.linear_model import LinearRegression\n",
        "\n",
        "LinearReg = LinearRegression(normalize = True).fit(train_X,train_y)\n",
        "\n",
        "print(\"Linear Regression\") \n",
        "predicted_train_y = LinearReg.predict(train_X)\n",
        "evaluateRegressor(train_y,predicted_train_y,\"    Training Set\")\n",
        "predicted_valid_y = LinearReg.predict(valid_X)\n",
        "evaluateRegressor(valid_y,predicted_valid_y,\"    Test Set\")\n",
        "print(\"\\n\")"
      ],
      "execution_count": 74,
      "outputs": [
        {
          "output_type": "stream",
          "name": "stdout",
          "text": [
            "Linear Regression\n",
            "    Training Set\n",
            "MSE: 1.2941514965490927e-31\n",
            "MAE: 2.638204634911442e-16\n",
            "RMSE: 3.314372445343986e-16\n",
            "R-squared: 1.0\n",
            "    Test Set\n",
            "MSE: 1.3307549988483873e-31\n",
            "MAE: 2.6836172173361204e-16\n",
            "RMSE: 3.3569461680785225e-16\n",
            "R-squared: 1.0\n",
            "\n",
            "\n"
          ]
        },
        {
          "output_type": "stream",
          "name": "stderr",
          "text": [
            "/usr/local/lib/python3.7/dist-packages/sklearn/linear_model/_base.py:145: FutureWarning: 'normalize' was deprecated in version 1.0 and will be removed in 1.2.\n",
            "If you wish to scale the data, use Pipeline with a StandardScaler in a preprocessing stage. To reproduce the previous behavior:\n",
            "\n",
            "from sklearn.pipeline import make_pipeline\n",
            "\n",
            "model = make_pipeline(StandardScaler(with_mean=False), LinearRegression())\n",
            "\n",
            "If you wish to pass a sample_weight parameter, you need to pass it as a fit parameter to each step of the pipeline as follows:\n",
            "\n",
            "kwargs = {s[0] + '__sample_weight': sample_weight for s in model.steps}\n",
            "model.fit(X, y, **kwargs)\n",
            "\n",
            "\n",
            "  FutureWarning,\n"
          ]
        }
      ]
    },
    {
      "cell_type": "markdown",
      "metadata": {
        "id": "LsMUpgSeqNXc"
      },
      "source": [
        "# Random Forest"
      ]
    },
    {
      "cell_type": "code",
      "metadata": {
        "id": "qSgR_1CAqQx8"
      },
      "source": [
        "from sklearn.ensemble import RandomForestRegressor"
      ],
      "execution_count": 70,
      "outputs": []
    },
    {
      "cell_type": "code",
      "metadata": {
        "colab": {
          "base_uri": "https://localhost:8080/"
        },
        "id": "dBYGls3AqMXM",
        "outputId": "be469f9f-f2f8-45d1-d7ff-9e4eac39bc9f"
      },
      "source": [
        "forest=RandomForestRegressor(n_estimators=100)\n",
        "forest.fit(train_X,train_y)\n",
        "pred=forest.predict(valid_X)\n",
        "print(\"Random Forest Regressor\") \n",
        "predicted_train_y = forest.predict(train_X)\n",
        "evaluateRegressor(train_y,predicted_train_y,\"    Training Set\")\n",
        "predicted_valid_y = forest.predict(valid_X)\n",
        "evaluateRegressor(valid_y,predicted_valid_y,\"    Test Set\")\n",
        "print(\"\\n\")"
      ],
      "execution_count": 76,
      "outputs": [
        {
          "output_type": "stream",
          "name": "stdout",
          "text": [
            "Random Forest Regressor\n",
            "    Training Set\n",
            "MSE: 6.50892857142857e-05\n",
            "MAE: 0.0006946428571428572\n",
            "RMSE: 0.00456011779979216\n",
            "R-squared: 0.9992302477329842\n",
            "    Test Set\n",
            "MSE: 0.0011184285714285716\n",
            "MAE: 0.0028142857142857145\n",
            "RMSE: 0.017286691225818683\n",
            "R-squared: 0.9801461413966636\n",
            "\n",
            "\n"
          ]
        }
      ]
    },
    {
      "cell_type": "code",
      "metadata": {
        "colab": {
          "base_uri": "https://localhost:8080/"
        },
        "id": "8LLm7ZM6Dajv",
        "outputId": "da4ada2e-6f29-4f0c-ab57-b9e66935ac75"
      },
      "source": [
        "reg_metrics(valid_y,pred)"
      ],
      "execution_count": 97,
      "outputs": [
        {
          "output_type": "stream",
          "name": "stdout",
          "text": [
            "MAE: 0.0028142857142857145\n",
            "MSE: 0.0011184285714285716\n",
            "RMSE: 0.0334429151155902\n",
            "R2: 0.9801461413966636\n"
          ]
        }
      ]
    },
    {
      "cell_type": "code",
      "metadata": {
        "id": "SAJ-Do8v4fop"
      },
      "source": [
        "from sklearn.model_selection import GridSearchCV"
      ],
      "execution_count": 77,
      "outputs": []
    },
    {
      "cell_type": "code",
      "metadata": {
        "id": "X_t4IeIX4ooo"
      },
      "source": [
        "param_grid = {\n",
        "    'bootstrap': [True],\n",
        "    'max_depth': [3,4,5],\n",
        "    'max_features': [3,4,5],\n",
        "    'min_samples_leaf': [3,4,5],\n",
        "    'min_samples_split': [8,10],\n",
        "    'n_estimators': [100, 200]\n",
        "}\n",
        "forest_cv=RandomForestRegressor(criterion='mae')\n",
        "# Instantiate the grid search model\n",
        "grid=GridSearchCV(estimator=forest_cv, param_grid=param_grid, cv=6, n_jobs=-1, verbose=2)"
      ],
      "execution_count": 78,
      "outputs": []
    },
    {
      "cell_type": "code",
      "metadata": {
        "colab": {
          "base_uri": "https://localhost:8080/"
        },
        "id": "ig3fsEO94vk5",
        "outputId": "7522fa20-669f-4fbc-fd5e-59fbf397befa"
      },
      "source": [
        "grid.fit(train_X,train_y)"
      ],
      "execution_count": 89,
      "outputs": [
        {
          "output_type": "stream",
          "name": "stdout",
          "text": [
            "Fitting 6 folds for each of 108 candidates, totalling 648 fits\n"
          ]
        },
        {
          "output_type": "stream",
          "name": "stderr",
          "text": [
            "/usr/local/lib/python3.7/dist-packages/sklearn/ensemble/_forest.py:399: FutureWarning: Criterion 'mae' was deprecated in v1.0 and will be removed in version 1.2. Use `criterion='absolute_error'` which is equivalent.\n",
            "  FutureWarning,\n"
          ]
        },
        {
          "output_type": "execute_result",
          "data": {
            "text/plain": [
              "GridSearchCV(cv=6, estimator=RandomForestRegressor(criterion='mae'), n_jobs=-1,\n",
              "             param_grid={'bootstrap': [True], 'max_depth': [3, 4, 5],\n",
              "                         'max_features': [3, 4, 5],\n",
              "                         'min_samples_leaf': [3, 4, 5],\n",
              "                         'min_samples_split': [8, 10],\n",
              "                         'n_estimators': [100, 200]},\n",
              "             verbose=2)"
            ]
          },
          "metadata": {},
          "execution_count": 89
        }
      ]
    },
    {
      "cell_type": "code",
      "metadata": {
        "colab": {
          "base_uri": "https://localhost:8080/"
        },
        "id": "_N450bWw46mB",
        "outputId": "7efec6c7-757a-4eb5-c707-e12caaee0f5f"
      },
      "source": [
        "grid.best_params_"
      ],
      "execution_count": 90,
      "outputs": [
        {
          "output_type": "execute_result",
          "data": {
            "text/plain": [
              "{'bootstrap': True,\n",
              " 'max_depth': 5,\n",
              " 'max_features': 5,\n",
              " 'min_samples_leaf': 3,\n",
              " 'min_samples_split': 8,\n",
              " 'n_estimators': 200}"
            ]
          },
          "metadata": {},
          "execution_count": 90
        }
      ]
    },
    {
      "cell_type": "code",
      "metadata": {
        "colab": {
          "base_uri": "https://localhost:8080/"
        },
        "id": "6V0w8U5h46_B",
        "outputId": "798b9ecc-1d21-475f-9451-814ee4f7ec5e"
      },
      "source": [
        "forest_cv=RandomForestRegressor(criterion='mae',bootstrap=True,max_depth=5,max_features=4,min_samples_leaf=3,min_samples_split=10,n_estimators=100)\n",
        "forest_cv.fit(train_X,train_y)\n",
        "pred4=forest_cv.predict(valid_X)"
      ],
      "execution_count": 91,
      "outputs": [
        {
          "output_type": "stream",
          "name": "stderr",
          "text": [
            "/usr/local/lib/python3.7/dist-packages/sklearn/ensemble/_forest.py:399: FutureWarning: Criterion 'mae' was deprecated in v1.0 and will be removed in version 1.2. Use `criterion='absolute_error'` which is equivalent.\n",
            "  FutureWarning,\n"
          ]
        }
      ]
    },
    {
      "cell_type": "code",
      "metadata": {
        "colab": {
          "base_uri": "https://localhost:8080/"
        },
        "id": "ZLxaOoc15MAo",
        "outputId": "a4ec7b04-37bd-4d80-93be-4f8778c24577"
      },
      "source": [
        "pred4=forest_cv.predict(valid_X)\n",
        "print(\"Random Forest Regressor\") \n",
        "predicted_train_y = forest.predict(train_X)\n",
        "evaluateRegressor(train_y,predicted_train_y,\"    Training Set\")\n",
        "predicted_valid_y = forest.predict(valid_X)\n",
        "evaluateRegressor(valid_y,predicted_valid_y,\"    Test Set\")\n",
        "print(\"\\n\")"
      ],
      "execution_count": 92,
      "outputs": [
        {
          "output_type": "stream",
          "name": "stdout",
          "text": [
            "Random Forest Regressor\n",
            "    Training Set\n",
            "MSE: 6.50892857142857e-05\n",
            "MAE: 0.0006946428571428572\n",
            "RMSE: 0.00456011779979216\n",
            "R-squared: 0.9992302477329842\n",
            "    Test Set\n",
            "MSE: 0.0011184285714285716\n",
            "MAE: 0.0028142857142857145\n",
            "RMSE: 0.017286691225818683\n",
            "R-squared: 0.9801461413966636\n",
            "\n",
            "\n"
          ]
        }
      ]
    },
    {
      "cell_type": "code",
      "metadata": {
        "id": "mij-d2VuDBHk"
      },
      "source": [
        "from sklearn import metrics\n",
        "def reg_metrics(actual,predicted):\n",
        "    mae=metrics.mean_absolute_error(actual,predicted)\n",
        "    mse=metrics.mean_squared_error(actual,predicted)\n",
        "    rmse=np.sqrt(metrics.mean_squared_error(actual,predicted))\n",
        "    r2=r2_score(actual,predicted)\n",
        "    print(\"MAE:\",mae)\n",
        "    print(\"MSE:\",mse)\n",
        "    print(\"RMSE:\",rmse)\n",
        "    print(\"R2:\",r2)"
      ],
      "execution_count": 95,
      "outputs": []
    },
    {
      "cell_type": "code",
      "metadata": {
        "colab": {
          "base_uri": "https://localhost:8080/"
        },
        "id": "wyLrxYLiDI2U",
        "outputId": "0b10d6c1-995b-47f7-b209-4786cc637379"
      },
      "source": [
        "reg_metrics(valid_y,pred4)"
      ],
      "execution_count": 96,
      "outputs": [
        {
          "output_type": "stream",
          "name": "stdout",
          "text": [
            "MAE: 0.07901964285714284\n",
            "MSE: 0.035633866071428565\n",
            "RMSE: 0.1887693462176223\n",
            "R2: 0.7078127729336229\n"
          ]
        }
      ]
    },
    {
      "cell_type": "code",
      "metadata": {
        "id": "xKiaAuzu6cw6"
      },
      "source": [
        "import matplotlib.pyplot as plt\n",
        "\n",
        "def residual_plot(actual,predicted):\n",
        "    plt.figure(figsize=(10,6))\n",
        "    plt.xlabel('Residual error value')\n",
        "    plt.title('Residual Plot',size=13)\n",
        "    plt.hist(actual-predicted)"
      ],
      "execution_count": 99,
      "outputs": []
    },
    {
      "cell_type": "code",
      "metadata": {
        "colab": {
          "base_uri": "https://localhost:8080/",
          "height": 404
        },
        "id": "32B4_YZS5Ojg",
        "outputId": "ad5f9bd6-2ff9-4b5f-b91b-9d219841df50"
      },
      "source": [
        "residual_plot(valid_y,pred4)"
      ],
      "execution_count": 100,
      "outputs": [
        {
          "output_type": "display_data",
          "data": {
            "image/png": "[encoded data removed]",
            "text/plain": [
              "<Figure size 720x432 with 1 Axes>"
            ]
          },
          "metadata": {
            "needs_background": "light"
          }
        }
      ]
    },
    {
      "cell_type": "markdown",
      "metadata": {
        "id": "G6XvsQAa3J1R"
      },
      "source": [
        "# Sample"
      ]
    },
    {
      "cell_type": "code",
      "metadata": {
        "id": "UYG9tbcZ3L7i"
      },
      "source": [
        "#target dan train\n",
        "target = data[['math score','reading score','writing score']]\n",
        "train = data.drop(columns=['math score','reading score', 'writing score', ])"
      ],
      "execution_count": null,
      "outputs": []
    }
  ]
}