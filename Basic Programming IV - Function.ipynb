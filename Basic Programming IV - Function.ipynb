{
 "cells": [
  {
   "cell_type": "markdown",
   "metadata": {
    "id": "D2D-jp4jXiNS"
   },
   "source": [
    "# Function"
   ]
  },
  {
   "cell_type": "code",
   "execution_count": 1,
   "metadata": {
    "colab": {
     "base_uri": "https://localhost:8080/"
    },
    "id": "Q5qXymQQXj7p",
    "outputId": "ce570327-6f14-48d0-e6f8-533179999377"
   },
   "outputs": [
    {
     "name": "stdout",
     "output_type": "stream",
     "text": [
      "belajar dengan fungsi di python\n",
      "ini adalah baris kedua\n",
      "ini adalah baris ketiga\n"
     ]
    }
   ],
   "source": [
    "def print_msg():\n",
    "  print('belajar dengan fungsi di python')\n",
    "  print('ini adalah baris kedua')\n",
    "  print('ini adalah baris ketiga')\n",
    "\n",
    "print_msg()"
   ]
  },
  {
   "cell_type": "code",
   "execution_count": 2,
   "metadata": {
    "colab": {
     "base_uri": "https://localhost:8080/"
    },
    "id": "2ORUltZ-X1my",
    "outputId": "436bdd4c-e92c-451a-9451-18fc29eab3f9"
   },
   "outputs": [
    {
     "name": "stdout",
     "output_type": "stream",
     "text": [
      "belajar dengan fungsi di python\n",
      "ini adalah baris kedua\n",
      "ini adalah baris ketiga\n"
     ]
    }
   ],
   "source": [
    "print_msg()"
   ]
  },
  {
   "cell_type": "markdown",
   "metadata": {
    "id": "XngG0ZuWZLH9"
   },
   "source": [
    "## arguments"
   ]
  },
  {
   "cell_type": "code",
   "execution_count": 3,
   "metadata": {
    "colab": {
     "base_uri": "https://localhost:8080/"
    },
    "id": "RVCzLugkZMQA",
    "outputId": "3afdbeb1-eddf-4a40-b5f3-c095997a86ce"
   },
   "outputs": [
    {
     "name": "stdout",
     "output_type": "stream",
     "text": [
      "Input dari user adalah  halo python\n"
     ]
    }
   ],
   "source": [
    "def print_msg(input_user):\n",
    "  print('Input dari user adalah ', input_user)\n",
    "\n",
    "var1 = 'halo python'\n",
    "print_msg(var1)"
   ]
  },
  {
   "cell_type": "code",
   "execution_count": 4,
   "metadata": {
    "colab": {
     "base_uri": "https://localhost:8080/"
    },
    "id": "2XpPIiwnZ_zX",
    "outputId": "a6c35f63-c187-44c1-af17-52965bcd2e5f"
   },
   "outputs": [
    {
     "name": "stdout",
     "output_type": "stream",
     "text": [
      "nama\n",
      "saya\n",
      "adi\n"
     ]
    }
   ],
   "source": [
    "def print_msg2 (var1, var2, var3):\n",
    "  print(var1)\n",
    "  print(var2)\n",
    "  print(var3)\n",
    "\n",
    "\n",
    "print_msg2('nama', 'saya', 'adi')"
   ]
  },
  {
   "cell_type": "code",
   "execution_count": 9,
   "metadata": {
    "colab": {
     "base_uri": "https://localhost:8080/"
    },
    "id": "mQfXi9keS80f",
    "outputId": "0f5d5bf9-4367-4d19-f0cc-c9c434b7d070"
   },
   "outputs": [
    {
     "name": "stdout",
     "output_type": "stream",
     "text": [
      "hasil penjumlahan  10  dengan  2  adalah  12\n"
     ]
    }
   ],
   "source": [
    "def jumlah(a, b):\n",
    "  c = a + b\n",
    "  print('hasil penjumlahan ', a, ' dengan ',b, ' adalah ', c)\n",
    "\n",
    "jumlah(10,2)"
   ]
  },
  {
   "cell_type": "code",
   "execution_count": 21,
   "metadata": {
    "colab": {
     "base_uri": "https://localhost:8080/"
    },
    "id": "REopUcpCTuoU",
    "outputId": "5465d13e-30aa-46bf-cdce-bbf4c241631a"
   },
   "outputs": [
    {
     "name": "stdout",
     "output_type": "stream",
     "text": [
      "hasil penjumlahan  22\n"
     ]
    }
   ],
   "source": [
    "def penjumlahan(a, b):\n",
    "  a = int(a)\n",
    "  b= int(b)\n",
    "  c = a + b\n",
    "  print('hasil penjumlahan ', c)\n",
    "\n",
    "\n",
    "penjumlahan('10', '12')"
   ]
  },
  {
   "cell_type": "markdown",
   "metadata": {
    "id": "5PA7Jc-pbSBc"
   },
   "source": [
    "## args"
   ]
  },
  {
   "cell_type": "code",
   "execution_count": 10,
   "metadata": {
    "colab": {
     "base_uri": "https://localhost:8080/"
    },
    "id": "owOgGAfIbRVj",
    "outputId": "0ddd76b3-ecec-484c-8d52-29e4216ef870"
   },
   "outputs": [
    {
     "name": "stdout",
     "output_type": "stream",
     "text": [
      "data ke 1 adalah  andi\n"
     ]
    }
   ],
   "source": [
    "def print_mhs (*mhs):\n",
    "  print('data ke 1 adalah ', mhs[0])\n",
    "\n",
    "print_mhs('andi', 'dwi', 'joko', 'mike')"
   ]
  },
  {
   "cell_type": "code",
   "execution_count": 11,
   "metadata": {
    "colab": {
     "base_uri": "https://localhost:8080/"
    },
    "id": "gDqlGPO8b6kD",
    "outputId": "47a52f1a-d993-4dc9-cf32-b72be834ab8c"
   },
   "outputs": [
    {
     "name": "stdout",
     "output_type": "stream",
     "text": [
      "andi\n",
      "dwi\n",
      "joko\n",
      "mike\n"
     ]
    }
   ],
   "source": [
    "def print_mhs2 (*mhs):\n",
    "  for i in mhs:\n",
    "    print(i)\n",
    "\n",
    "print_mhs2('andi', 'dwi', 'joko', 'mike')"
   ]
  },
  {
   "cell_type": "code",
   "execution_count": 12,
   "metadata": {
    "colab": {
     "base_uri": "https://localhost:8080/"
    },
    "id": "ML2pxAaFcQ_f",
    "outputId": "2da2d993-b0d1-48a7-a78e-8d4cb39d812d"
   },
   "outputs": [
    {
     "name": "stdout",
     "output_type": "stream",
     "text": [
      "data adalah  andi\n",
      "data adalah  dwi\n",
      "data adalah  joko\n",
      "data adalah  mike\n"
     ]
    }
   ],
   "source": [
    "def print_mhs3 (*mhs):\n",
    "  for i in range(len(mhs)):\n",
    "    print('data adalah ', mhs[i])\n",
    "\n",
    "print_mhs3('andi', 'dwi', 'joko', 'mike')"
   ]
  },
  {
   "cell_type": "markdown",
   "metadata": {
    "id": "NyZLevF1cu3v"
   },
   "source": [
    "## keyword arguments"
   ]
  },
  {
   "cell_type": "code",
   "execution_count": 14,
   "metadata": {
    "colab": {
     "base_uri": "https://localhost:8080/"
    },
    "id": "mzBgamiRdWH3",
    "outputId": "5a8ccdb6-1a34-40e1-c65d-1b701cb842c6"
   },
   "outputs": [
    {
     "name": "stdout",
     "output_type": "stream",
     "text": [
      "nama  Andi\n",
      "alamat  Jakarta\n",
      "jurusan  Ekonomi\n"
     ]
    }
   ],
   "source": [
    "def data_mhs(nama, alamat, jurusan):\n",
    "  print('nama ', nama)\n",
    "  print('alamat ', alamat)\n",
    "  print('jurusan ', jurusan)\n",
    "\n",
    "data_mhs(alamat='Jakarta', jurusan='Ekonomi', nama='Andi')"
   ]
  },
  {
   "cell_type": "markdown",
   "metadata": {
    "id": "ZhWuDcm4Taz-"
   },
   "source": [
    "## kwargs"
   ]
  },
  {
   "cell_type": "code",
   "execution_count": 17,
   "metadata": {
    "colab": {
     "base_uri": "https://localhost:8080/"
    },
    "id": "H3QOdCdNesf5",
    "outputId": "8f389587-a457-43c3-cf52-0a2db7a34670"
   },
   "outputs": [
    {
     "name": "stdout",
     "output_type": "stream",
     "text": [
      "nama adalah  Jack\n",
      "alamat  Surabaya\n",
      "jurusan  Biologi\n",
      "tahun masuk  2019\n"
     ]
    }
   ],
   "source": [
    "def data_mhs2(**data):\n",
    "  print('nama adalah ', data['nama'])\n",
    "  print('alamat ', data['alamat'])\n",
    "  print('jurusan ', data['jurusan'])\n",
    "  print('tahun masuk ', data['tahun_masuk'])\n",
    "\n",
    "\n",
    "data_mhs2(nama='Jack', alamat='Surabaya', jurusan='Biologi', tahun_masuk=2019)"
   ]
  },
  {
   "cell_type": "markdown",
   "metadata": {
    "id": "nC2zVNjzf_v5"
   },
   "source": [
    "## default value"
   ]
  },
  {
   "cell_type": "code",
   "execution_count": 18,
   "metadata": {
    "colab": {
     "base_uri": "https://localhost:8080/"
    },
    "id": "XQdXaLX9gBNR",
    "outputId": "f8e19ebc-3c93-4c2a-f902-4d0a56fd136b"
   },
   "outputs": [
    {
     "name": "stdout",
     "output_type": "stream",
     "text": [
      "jurusan mahasiswa adalah  Teknik Mesin\n"
     ]
    }
   ],
   "source": [
    "def jurusan_mhs(jurusan='Teknik Mesin'):\n",
    "  print('jurusan mahasiswa adalah ', jurusan)\n",
    "\n",
    "\n",
    "jurusan_mhs()"
   ]
  },
  {
   "cell_type": "code",
   "execution_count": 19,
   "metadata": {
    "colab": {
     "base_uri": "https://localhost:8080/"
    },
    "id": "aAdLEm77gSIv",
    "outputId": "8e7b9e7d-ebf8-47a5-8199-1a6344a341e5"
   },
   "outputs": [
    {
     "name": "stdout",
     "output_type": "stream",
     "text": [
      "jurusan mahasiswa adalah  Ekonomi\n"
     ]
    }
   ],
   "source": [
    "jurusan_mhs(jurusan='Ekonomi')"
   ]
  },
  {
   "cell_type": "code",
   "execution_count": 20,
   "metadata": {
    "colab": {
     "base_uri": "https://localhost:8080/"
    },
    "id": "K0ehrqwhgc8e",
    "outputId": "b3347066-f82f-4407-c3c4-2bc4dada7f26"
   },
   "outputs": [
    {
     "name": "stdout",
     "output_type": "stream",
     "text": [
      "jurusan mahasiswa adalah  Sastra Inggris\n"
     ]
    }
   ],
   "source": [
    "jurusan_mhs('Sastra Inggris')"
   ]
  },
  {
   "cell_type": "markdown",
   "metadata": {
    "id": "9Xdin-TQjJWX"
   },
   "source": [
    "## mengirim list sebagai argument"
   ]
  },
  {
   "cell_type": "code",
   "execution_count": 22,
   "metadata": {
    "colab": {
     "base_uri": "https://localhost:8080/"
    },
    "id": "RH31AkuejLuw",
    "outputId": "881cd33d-3658-4052-e1ec-95622f1bf61f"
   },
   "outputs": [
    {
     "name": "stdout",
     "output_type": "stream",
     "text": [
      "MK adalah  kalkulus\n",
      "MK adalah  bhs inggris\n",
      "MK adalah  database\n",
      "MK adalah  programming\n"
     ]
    }
   ],
   "source": [
    "def print_matkul(mk):\n",
    "  for x in mk:\n",
    "    print('MK adalah ', x)\n",
    "\n",
    "\n",
    "mk_input = ['kalkulus', 'bhs inggris', 'database','programming']\n",
    "print_matkul(mk_input)"
   ]
  },
  {
   "cell_type": "markdown",
   "metadata": {
    "id": "tdycI8eUkXgs"
   },
   "source": [
    "## return / mengembalikan nilai"
   ]
  },
  {
   "cell_type": "code",
   "execution_count": 23,
   "metadata": {
    "colab": {
     "base_uri": "https://localhost:8080/"
    },
    "id": "Sf-n-aJekYuS",
    "outputId": "f7aa2f1c-b628-4973-c067-f08cf0a7b4a0"
   },
   "outputs": [
    {
     "name": "stdout",
     "output_type": "stream",
     "text": [
      "hasil penjumlahan adalah  22\n"
     ]
    }
   ],
   "source": [
    "def get_addition(a, b):\n",
    "  c = a + b\n",
    "  return c\n",
    "\n",
    "var1 = 10\n",
    "var2 = 12\n",
    "result = get_addition(var1, var2)\n",
    "print('hasil penjumlahan adalah ', result)"
   ]
  },
  {
   "cell_type": "code",
   "execution_count": 26,
   "metadata": {
    "colab": {
     "base_uri": "https://localhost:8080/"
    },
    "id": "quKTtpc3lQ7h",
    "outputId": "8d235c35-7379-4b2a-9311-d74e9ded814c"
   },
   "outputs": [
    {
     "name": "stdout",
     "output_type": "stream",
     "text": [
      "hasil penjumlahan adalah  22\n",
      "hasil pengurangan adalah  -2\n",
      "hasil pembagian adalah  0.8333333333333334\n"
     ]
    }
   ],
   "source": [
    "def get_calculation(a, b):\n",
    "  c = a + b\n",
    "  d = a - b\n",
    "  hasil_e = a / b\n",
    "  return c, d, hasil_e\n",
    "\n",
    "var1 = 10\n",
    "var2 = 12\n",
    "plus, minus, bagi = get_calculation(var1, var2)\n",
    "print('hasil penjumlahan adalah ', plus)\n",
    "print('hasil pengurangan adalah ', minus)\n",
    "print('hasil pembagian adalah ', bagi)\n"
   ]
  },
  {
   "cell_type": "markdown",
   "metadata": {
    "id": "gpvbP1i_oGzD"
   },
   "source": [
    "## lambda function"
   ]
  },
  {
   "cell_type": "code",
   "execution_count": 27,
   "metadata": {
    "colab": {
     "base_uri": "https://localhost:8080/"
    },
    "id": "W9BTjSnWoIvD",
    "outputId": "45f0abe7-9538-438c-8b95-dac543924804"
   },
   "outputs": [
    {
     "name": "stdout",
     "output_type": "stream",
     "text": [
      "9\n"
     ]
    }
   ],
   "source": [
    "var1 = lambda a, b, c : a + b + c\n",
    "\n",
    "print(var1(1, 3, 5))"
   ]
  },
  {
   "cell_type": "code",
   "execution_count": 28,
   "metadata": {
    "colab": {
     "base_uri": "https://localhost:8080/"
    },
    "id": "XCc8TirUo68s",
    "outputId": "001b0540-16e9-45bf-97b7-e4c088efc118"
   },
   "outputs": [
    {
     "name": "stdout",
     "output_type": "stream",
     "text": [
      "bukan remaja\n",
      "remaja\n"
     ]
    }
   ],
   "source": [
    "status = lambda umur : 'remaja' if umur > 10 and umur < 20 else 'bukan remaja'\n",
    "\n",
    "print(status(35))\n",
    "print(status(15))"
   ]
  },
  {
   "cell_type": "markdown",
   "metadata": {
    "id": "-SxSmbkDnkAO"
   },
   "source": [
    "## scope"
   ]
  },
  {
   "cell_type": "code",
   "execution_count": 32,
   "metadata": {
    "id": "osAo6Fsvqm7u"
   },
   "outputs": [],
   "source": [
    "def myMhs ():\n",
    "  global namaMhs\n",
    "  namaMhs = 'Jack'\n",
    "  print(namaMhs)"
   ]
  },
  {
   "cell_type": "code",
   "execution_count": 33,
   "metadata": {
    "colab": {
     "base_uri": "https://localhost:8080/"
    },
    "id": "TZegGYLrqKv8",
    "outputId": "6870118b-2ea3-4523-b0a1-763d53b0f6b3"
   },
   "outputs": [
    {
     "name": "stdout",
     "output_type": "stream",
     "text": [
      "Jack\n"
     ]
    }
   ],
   "source": [
    "myMhs()"
   ]
  },
  {
   "cell_type": "code",
   "execution_count": 35,
   "metadata": {
    "colab": {
     "base_uri": "https://localhost:8080/",
     "height": 35
    },
    "id": "nOTufo3hqzAl",
    "outputId": "02b62cdf-b84b-4615-e452-8dc01a202d93"
   },
   "outputs": [
    {
     "data": {
      "application/vnd.google.colaboratory.intrinsic+json": {
       "type": "string"
      },
      "text/plain": [
       "'Jack'"
      ]
     },
     "execution_count": 35,
     "metadata": {},
     "output_type": "execute_result"
    }
   ],
   "source": [
    "# bisa memanggil namaMhs yang ada dalam fungsi myMhs, karena variable namaMhs sudah global\n",
    "namaMhs"
   ]
  },
  {
   "cell_type": "code",
   "execution_count": 37,
   "metadata": {
    "colab": {
     "base_uri": "https://localhost:8080/"
    },
    "id": "rLG-gCxFrAVI",
    "outputId": "5ba2521f-2e3b-4926-9ead-fe4a7eb6dc86"
   },
   "outputs": [
    {
     "name": "stdout",
     "output_type": "stream",
     "text": [
      "hello\n"
     ]
    }
   ],
   "source": [
    "test = 'hello'\n",
    "\n",
    "def check():\n",
    "  # bisa memanggil variable yang di luar function, atau di body program kita\n",
    "  print(test)\n",
    "\n",
    "check()"
   ]
  },
  {
   "cell_type": "markdown",
   "metadata": {
    "id": "lkKtbzw3uWwG"
   },
   "source": [
    "## modules (tidak wajib dikerjakan, karena agak susah)"
   ]
  },
  {
   "cell_type": "markdown",
   "metadata": {
    "id": "bPvYh1yrUo4O"
   },
   "source": [
    "### pastikan dulu file1.py diupload ke google drive masing2"
   ]
  },
  {
   "cell_type": "code",
   "execution_count": 39,
   "metadata": {
    "colab": {
     "base_uri": "https://localhost:8080/"
    },
    "id": "NejIH7bHuWFv",
    "outputId": "5d697e34-46a6-4221-a5dc-9727c74c42f8"
   },
   "outputs": [
    {
     "name": "stdout",
     "output_type": "stream",
     "text": [
      "Drive already mounted at /content/drive/; to attempt to forcibly remount, call drive.mount(\"/content/drive/\", force_remount=True).\n"
     ]
    }
   ],
   "source": [
    "from google.colab import drive\n",
    "drive.mount('/content/drive/')"
   ]
  },
  {
   "cell_type": "markdown",
   "metadata": {
    "id": "3jIhDoD4UtSZ"
   },
   "source": [
    "### silahkan di tuliskan path dari file1.py yg ada di google drive masing2"
   ]
  },
  {
   "cell_type": "code",
   "execution_count": 41,
   "metadata": {
    "colab": {
     "base_uri": "https://localhost:8080/"
    },
    "id": "EnBw7Xawtod3",
    "outputId": "e008f290-975f-46f7-8325-867025407c43"
   },
   "outputs": [
    {
     "name": "stdout",
     "output_type": "stream",
     "text": [
      "9\n"
     ]
    }
   ],
   "source": [
    "import sys\n",
    "sys.path.append('/content/drive/MyDrive/DS 7/')\n",
    "import file1\n",
    "\n",
    "x = file1.addition(4,5)\n",
    "print(x)"
   ]
  },
  {
   "cell_type": "markdown",
   "metadata": {
    "id": "E_dGAty0vPLn"
   },
   "source": [
    "## import math"
   ]
  },
  {
   "cell_type": "code",
   "execution_count": 43,
   "metadata": {
    "colab": {
     "base_uri": "https://localhost:8080/"
    },
    "id": "1IWjwIjovQaG",
    "outputId": "b24523ce-4a68-40ba-adbb-40e596c862c1"
   },
   "outputs": [
    {
     "name": "stdout",
     "output_type": "stream",
     "text": [
      "100.0\n",
      "3.0\n"
     ]
    }
   ],
   "source": [
    "import math\n",
    "\n",
    "a = math.pow(10, 2)\n",
    "print(a)\n",
    "\n",
    "b = math.sqrt(9)\n",
    "print(b)"
   ]
  },
  {
   "cell_type": "code",
   "execution_count": 44,
   "metadata": {
    "colab": {
     "base_uri": "https://localhost:8080/"
    },
    "id": "dfIT7Qg5vxbe",
    "outputId": "e41c3df0-66da-4362-d9ee-bf178cf862e3"
   },
   "outputs": [
    {
     "name": "stdout",
     "output_type": "stream",
     "text": [
      "10.0\n"
     ]
    }
   ],
   "source": [
    "a = [1, 2, 3, 4]\n",
    "\n",
    "z = math.fsum(a)\n",
    "print(z)"
   ]
  },
  {
   "cell_type": "markdown",
   "metadata": {
    "id": "WOAKfrC2wOUu"
   },
   "source": [
    "# string formatting"
   ]
  },
  {
   "cell_type": "code",
   "execution_count": 45,
   "metadata": {
    "colab": {
     "base_uri": "https://localhost:8080/"
    },
    "id": "XnKQcs90wPvb",
    "outputId": "48ec36fb-5997-4fe4-8ecb-db30bfe5df77"
   },
   "outputs": [
    {
     "name": "stdout",
     "output_type": "stream",
     "text": [
      "harga produk A adalah 1000 rupiah\n"
     ]
    }
   ],
   "source": [
    "harga = 1000\n",
    "txt = 'harga produk A adalah {} rupiah'\n",
    "\n",
    "print(txt.format(harga))"
   ]
  },
  {
   "cell_type": "code",
   "execution_count": 46,
   "metadata": {
    "colab": {
     "base_uri": "https://localhost:8080/"
    },
    "id": "a3Hq7kIhwxin",
    "outputId": "656bff6d-6a27-444f-f130-a556cd850334"
   },
   "outputs": [
    {
     "name": "stdout",
     "output_type": "stream",
     "text": [
      "nama Andi dengan alamat jakarta dan umur 23\n"
     ]
    }
   ],
   "source": [
    "nama = 'Andi'\n",
    "alamat = 'jakarta'\n",
    "umur = '23'\n",
    "\n",
    "txt = 'nama {0} dengan alamat {1} dan umur {2}'\n",
    "print(txt.format(nama, alamat, umur))"
   ]
  },
  {
   "cell_type": "code",
   "execution_count": 47,
   "metadata": {
    "colab": {
     "base_uri": "https://localhost:8080/"
    },
    "id": "OSUZqhOIxKyy",
    "outputId": "05014cdd-3563-4d81-bf5a-2731d504dba9"
   },
   "outputs": [
    {
     "name": "stdout",
     "output_type": "stream",
     "text": [
      "nama Andi dengan alamat jakarta dan umur 23\n"
     ]
    }
   ],
   "source": [
    "nama = 'Andi'\n",
    "alamat = 'jakarta'\n",
    "umur = '23'\n",
    "\n",
    "txt = 'nama {2} dengan alamat {0} dan umur {1}'\n",
    "print(txt.format(alamat, umur, nama))"
   ]
  }
 ],
 "metadata": {
  "colab": {
   "collapsed_sections": [],
   "name": "session13.ipynb",
   "provenance": [],
   "toc_visible": true
  },
  "kernelspec": {
   "display_name": "Python 3",
   "language": "python",
   "name": "python3"
  },
  "language_info": {
   "codemirror_mode": {
    "name": "ipython",
    "version": 3
   },
   "file_extension": ".py",
   "mimetype": "text/x-python",
   "name": "python",
   "nbconvert_exporter": "python",
   "pygments_lexer": "ipython3",
   "version": "3.7.4"
  }
 },
 "nbformat": 4,
 "nbformat_minor": 1
}
